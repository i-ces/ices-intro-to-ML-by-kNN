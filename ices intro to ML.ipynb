{
 "cells": [
  {
   "cell_type": "markdown",
   "metadata": {
    "slideshow": {
     "slide_type": "slide"
    }
   },
   "source": [
    "# Get introduced to Machine Learning by doing one"
   ]
  },
  {
   "cell_type": "markdown",
   "metadata": {
    "slideshow": {
     "slide_type": "fragment"
    }
   },
   "source": [
    "## Digit recognition using kNN "
   ]
  },
  {
   "cell_type": "markdown",
   "metadata": {
    "slideshow": {
     "slide_type": "fragment"
    }
   },
   "source": [
    "### Grasp at least some intuitive knowledge about algorithms and their use cases"
   ]
  },
  {
   "cell_type": "markdown",
   "metadata": {
    "slideshow": {
     "slide_type": "slide"
    }
   },
   "source": [
    "<img src=\"images/KNN%20Train%20Example.png\" height=\"70%\" width=\"70%\">"
   ]
  },
  {
   "cell_type": "markdown",
   "metadata": {
    "slideshow": {
     "slide_type": "slide"
    }
   },
   "source": [
    "<img src=\"images/KNN%20Test%20Added.png\" height=\"70%\" width=\"70%\">"
   ]
  },
  {
   "cell_type": "markdown",
   "metadata": {
    "slideshow": {
     "slide_type": "slide"
    }
   },
   "source": [
    "# If it walks like a duck, quacks like a duck, and looks like a duck, then it's probably a duck."
   ]
  },
  {
   "cell_type": "markdown",
   "metadata": {
    "slideshow": {
     "slide_type": "slide"
    }
   },
   "source": [
    "### How come that decision was made?"
   ]
  },
  {
   "cell_type": "markdown",
   "metadata": {
    "ExecuteTime": {
     "end_time": "2019-01-30T03:12:33.324914Z",
     "start_time": "2019-01-30T03:12:33.313206Z"
    },
    "slideshow": {
     "slide_type": "fragment"
    }
   },
   "source": [
    "<img src=\"images/mindistance.png\" height=\"70%\" width=\"70%\">"
   ]
  },
  {
   "cell_type": "markdown",
   "metadata": {
    "slideshow": {
     "slide_type": "slide"
    }
   },
   "source": [
    "### Is 1-Neighbor approach good?"
   ]
  },
  {
   "cell_type": "markdown",
   "metadata": {
    "slideshow": {
     "slide_type": "fragment"
    }
   },
   "source": [
    "<img src=\"images/mindistancenoise.png\" height=\"70%\" width=\"70%\">"
   ]
  },
  {
   "cell_type": "markdown",
   "metadata": {
    "slideshow": {
     "slide_type": "slide"
    }
   },
   "source": [
    "### What if we take all training examples?"
   ]
  },
  {
   "cell_type": "markdown",
   "metadata": {
    "slideshow": {
     "slide_type": "fragment"
    }
   },
   "source": [
    "<img src=\"images/mindistancetakeall.png\" height=\"70%\" width=\"70%\">"
   ]
  },
  {
   "cell_type": "markdown",
   "metadata": {
    "slideshow": {
     "slide_type": "slide"
    }
   },
   "source": [
    "## What can we do?\n",
    "k-NN(k-Nearest Neighbor Algorithm)."
   ]
  },
  {
   "cell_type": "markdown",
   "metadata": {
    "slideshow": {
     "slide_type": "subslide"
    }
   },
   "source": [
    "#### K = 3\n",
    "<img src=\"images/mindistancenoiseavoide.png\" height=\"70%\" width=\"70%\">"
   ]
  },
  {
   "cell_type": "markdown",
   "metadata": {
    "slideshow": {
     "slide_type": "slide"
    }
   },
   "source": [
    "## Can we now develop a computer program to do things we made up in our mind?"
   ]
  },
  {
   "cell_type": "markdown",
   "metadata": {
    "slideshow": {
     "slide_type": "fragment"
    }
   },
   "source": [
    "#### Machine learning (ML) is a category of algorithm that allows software applications to become more accurate in predicting outcomes without being explicitly programmed."
   ]
  },
  {
   "cell_type": "markdown",
   "metadata": {
    "slideshow": {
     "slide_type": "slide"
    }
   },
   "source": [
    "## Why Python Python Python!!!"
   ]
  },
  {
   "cell_type": "markdown",
   "metadata": {
    "slideshow": {
     "slide_type": "subslide"
    }
   },
   "source": [
    "Packages, Packages everywhere !!!!\n",
    "- Want to work with images — numpy, opencv, scikit\n",
    "- Want to work in text — nltk, scikit\n",
    "- Want to work in audio — librosa\n",
    "- Want to solve machine learning problem — pandas, scikit\n",
    "- Want to see the data clearly — matplotlib, seaborn, scikit\n",
    "- Want to use deep learning — tensorflow, pytorch\n",
    "- Want to do scientific computing — scipy\n",
    "- Want to integrate web applications — Django\n",
    "- Want to go with other language …. It's your call"
   ]
  },
  {
   "cell_type": "markdown",
   "metadata": {
    "slideshow": {
     "slide_type": "slide"
    }
   },
   "source": [
    "## Let's import library that can handle our data"
   ]
  },
  {
   "cell_type": "code",
   "execution_count": 1,
   "metadata": {
    "ExecuteTime": {
     "end_time": "2019-02-02T14:27:37.611276Z",
     "start_time": "2019-02-02T14:27:37.607457Z"
    },
    "slideshow": {
     "slide_type": "fragment"
    }
   },
   "outputs": [],
   "source": [
    "import numpy as np"
   ]
  },
  {
   "cell_type": "markdown",
   "metadata": {
    "slideshow": {
     "slide_type": "slide"
    }
   },
   "source": [
    "#### Now create numpy variables for training data"
   ]
  },
  {
   "cell_type": "code",
   "execution_count": 2,
   "metadata": {
    "ExecuteTime": {
     "end_time": "2019-02-02T14:27:40.119960Z",
     "start_time": "2019-02-02T14:27:40.107083Z"
    },
    "slideshow": {
     "slide_type": "fragment"
    }
   },
   "outputs": [
    {
     "name": "stdout",
     "output_type": "stream",
     "text": [
      "[[2.   3.  ]\n",
      " [1.   2.5 ]\n",
      " [2.5  1.75]\n",
      " [1.5  1.  ]\n",
      " [4.   5.  ]\n",
      " [4.5  4.  ]\n",
      " [6.   5.  ]\n",
      " [5.   5.  ]\n",
      " [4.   5.5 ]\n",
      " [4.   5.5 ]]\n"
     ]
    },
    {
     "data": {
      "text/plain": [
       "array(['red', 'red', 'blue', 'red', 'blue', 'blue', 'blue', 'blue',\n",
       "       'blue', 'blue'], dtype='<U4')"
      ]
     },
     "execution_count": 2,
     "metadata": {},
     "output_type": "execute_result"
    }
   ],
   "source": [
    "X_train = np.array([[2.  , 3.  ],\n",
    "                    [1.  , 2.5 ],\n",
    "                    [2.5 , 1.75],  # noise\n",
    "                    [1.5 , 1.  ],\n",
    "                    [4.  , 5.  ],\n",
    "                    [4.5 , 4.  ],\n",
    "                    [6.  , 5.  ],\n",
    "                    [5.  , 5.  ],\n",
    "                    [4.  , 5.5 ],\n",
    "                    [4.  , 5.5 ]])\n",
    "y_train = np.array(['red',\n",
    "                    'red',\n",
    "                    'blue',  # noise\n",
    "                    'red',\n",
    "                    'blue',\n",
    "                    'blue',\n",
    "                    'blue',\n",
    "                    'blue',\n",
    "                    'blue',\n",
    "                    'blue'])\n",
    "print(X_train)\n",
    "y_train"
   ]
  },
  {
   "cell_type": "code",
   "execution_count": 3,
   "metadata": {
    "ExecuteTime": {
     "end_time": "2019-02-02T14:27:41.171352Z",
     "start_time": "2019-02-02T14:27:41.166434Z"
    }
   },
   "outputs": [
    {
     "data": {
      "text/plain": [
       "(array([2. , 1. , 2.5, 1.5, 4. , 4.5, 6. , 5. , 4. , 4. ]),\n",
       " array([3.  , 2.5 , 1.75, 1.  , 5.  , 4.  , 5.  , 5.  , 5.5 , 5.5 ]),\n",
       " array(['red', 'red', 'blue', 'red', 'blue', 'blue', 'blue', 'blue',\n",
       "        'blue', 'blue'], dtype='<U4'))"
      ]
     },
     "execution_count": 3,
     "metadata": {},
     "output_type": "execute_result"
    }
   ],
   "source": [
    "X_train[:, 0], X_train[:, 1], y_train"
   ]
  },
  {
   "cell_type": "code",
   "execution_count": 4,
   "metadata": {
    "ExecuteTime": {
     "end_time": "2019-02-02T14:27:42.851014Z",
     "start_time": "2019-02-02T14:27:42.846184Z"
    }
   },
   "outputs": [
    {
     "data": {
      "text/plain": [
       "((10, 2), (10,))"
      ]
     },
     "execution_count": 4,
     "metadata": {},
     "output_type": "execute_result"
    }
   ],
   "source": [
    "X_train.shape, y_train.shape"
   ]
  },
  {
   "cell_type": "markdown",
   "metadata": {
    "slideshow": {
     "slide_type": "slide"
    }
   },
   "source": [
    "#### Visualize data "
   ]
  },
  {
   "cell_type": "code",
   "execution_count": 5,
   "metadata": {
    "ExecuteTime": {
     "end_time": "2019-02-02T14:27:45.661467Z",
     "start_time": "2019-02-02T14:27:45.406655Z"
    },
    "slideshow": {
     "slide_type": "fragment"
    }
   },
   "outputs": [
    {
     "data": {
      "text/plain": [
       "<matplotlib.collections.PathCollection at 0x7fae84d26630>"
      ]
     },
     "execution_count": 5,
     "metadata": {},
     "output_type": "execute_result"
    }
   ],
   "source": [
    "import matplotlib.pyplot as plt\n",
    "\n",
    "plt.scatter(X_train[:, 0], X_train[:, 1], s=100, color=y_train)"
   ]
  },
  {
   "cell_type": "markdown",
   "metadata": {
    "slideshow": {
     "slide_type": "slide"
    }
   },
   "source": [
    "# Now we proceed to create our predictor"
   ]
  },
  {
   "cell_type": "markdown",
   "metadata": {
    "slideshow": {
     "slide_type": "subslide"
    }
   },
   "source": [
    "First of all we need a function to calculate the distance between test instance and every training instance"
   ]
  },
  {
   "cell_type": "markdown",
   "metadata": {
    "ExecuteTime": {
     "end_time": "2019-01-30T08:04:59.267158Z",
     "start_time": "2019-01-30T08:04:59.260344Z"
    },
    "slideshow": {
     "slide_type": "fragment"
    }
   },
   "source": [
    "Lets explore fancy thing about `numpy` by implementing distance formula\n",
    "\n",
    "\\begin{equation*}\n",
    "d = \\sqrt {\\left( {x_1 - x_2 } \\right)^2 + \\left( {y_1 - y_2 } \\right)^2 }\n",
    "\\end{equation*}"
   ]
  },
  {
   "cell_type": "markdown",
   "metadata": {
    "slideshow": {
     "slide_type": "subslide"
    }
   },
   "source": [
    "Calculate difference"
   ]
  },
  {
   "cell_type": "code",
   "execution_count": 6,
   "metadata": {
    "ExecuteTime": {
     "end_time": "2019-02-02T14:28:15.075347Z",
     "start_time": "2019-02-02T14:28:15.069083Z"
    },
    "slideshow": {
     "slide_type": "fragment"
    }
   },
   "outputs": [
    {
     "name": "stdout",
     "output_type": "stream",
     "text": [
      "[[2.   3.  ]\n",
      " [1.   2.5 ]\n",
      " [2.5  1.75]\n",
      " [1.5  1.  ]\n",
      " [4.   5.  ]\n",
      " [4.5  4.  ]\n",
      " [6.   5.  ]\n",
      " [5.   5.  ]\n",
      " [4.   5.5 ]\n",
      " [4.   5.5 ]]\n"
     ]
    },
    {
     "data": {
      "text/plain": [
       "array([[-1.  ,  1.  ],\n",
       "       [-2.  ,  0.5 ],\n",
       "       [-0.5 , -0.25],\n",
       "       [-1.5 , -1.  ],\n",
       "       [ 1.  ,  3.  ],\n",
       "       [ 1.5 ,  2.  ],\n",
       "       [ 3.  ,  3.  ],\n",
       "       [ 2.  ,  3.  ],\n",
       "       [ 1.  ,  3.5 ],\n",
       "       [ 1.  ,  3.5 ]])"
      ]
     },
     "execution_count": 6,
     "metadata": {},
     "output_type": "execute_result"
    }
   ],
   "source": [
    "print(X_train)\n",
    "# (x1  - x2) (y1 - y2)\n",
    "diff = X_train - [3, 2]  # This is called broadcasting in `numpy`\n",
    "diff"
   ]
  },
  {
   "cell_type": "markdown",
   "metadata": {
    "slideshow": {
     "slide_type": "subslide"
    }
   },
   "source": [
    "Calculate square of difference"
   ]
  },
  {
   "cell_type": "code",
   "execution_count": 7,
   "metadata": {
    "ExecuteTime": {
     "end_time": "2019-02-02T14:28:16.672728Z",
     "start_time": "2019-02-02T14:28:16.666276Z"
    },
    "slideshow": {
     "slide_type": "fragment"
    }
   },
   "outputs": [
    {
     "name": "stdout",
     "output_type": "stream",
     "text": [
      "[[-1.    1.  ]\n",
      " [-2.    0.5 ]\n",
      " [-0.5  -0.25]\n",
      " [-1.5  -1.  ]\n",
      " [ 1.    3.  ]\n",
      " [ 1.5   2.  ]\n",
      " [ 3.    3.  ]\n",
      " [ 2.    3.  ]\n",
      " [ 1.    3.5 ]\n",
      " [ 1.    3.5 ]]\n"
     ]
    },
    {
     "data": {
      "text/plain": [
       "array([[ 1.    ,  1.    ],\n",
       "       [ 4.    ,  0.25  ],\n",
       "       [ 0.25  ,  0.0625],\n",
       "       [ 2.25  ,  1.    ],\n",
       "       [ 1.    ,  9.    ],\n",
       "       [ 2.25  ,  4.    ],\n",
       "       [ 9.    ,  9.    ],\n",
       "       [ 4.    ,  9.    ],\n",
       "       [ 1.    , 12.25  ],\n",
       "       [ 1.    , 12.25  ]])"
      ]
     },
     "execution_count": 7,
     "metadata": {},
     "output_type": "execute_result"
    }
   ],
   "source": [
    "print(diff)\n",
    "# (x1  - x2)^2 (y1 - y2)^2\n",
    "sq_diff = diff**2\n",
    "sq_diff"
   ]
  },
  {
   "cell_type": "markdown",
   "metadata": {
    "slideshow": {
     "slide_type": "subslide"
    }
   },
   "source": [
    "Calculate sum of square of difference for each instance"
   ]
  },
  {
   "cell_type": "code",
   "execution_count": 8,
   "metadata": {
    "ExecuteTime": {
     "end_time": "2019-02-02T14:28:18.373393Z",
     "start_time": "2019-02-02T14:28:18.367847Z"
    },
    "slideshow": {
     "slide_type": "fragment"
    }
   },
   "outputs": [
    {
     "name": "stdout",
     "output_type": "stream",
     "text": [
      "[[ 1.      1.    ]\n",
      " [ 4.      0.25  ]\n",
      " [ 0.25    0.0625]\n",
      " [ 2.25    1.    ]\n",
      " [ 1.      9.    ]\n",
      " [ 2.25    4.    ]\n",
      " [ 9.      9.    ]\n",
      " [ 4.      9.    ]\n",
      " [ 1.     12.25  ]\n",
      " [ 1.     12.25  ]]\n"
     ]
    },
    {
     "data": {
      "text/plain": [
       "array([ 2.    ,  4.25  ,  0.3125,  3.25  , 10.    ,  6.25  , 18.    ,\n",
       "       13.    , 13.25  , 13.25  ])"
      ]
     },
     "execution_count": 8,
     "metadata": {},
     "output_type": "execute_result"
    }
   ],
   "source": [
    "print(sq_diff)\n",
    "# (x1  - x2)^2 + (y1 - y2)^2\n",
    "sum_sqdiff = np.sum(sq_diff, axis=1)\n",
    "sum_sqdiff"
   ]
  },
  {
   "cell_type": "markdown",
   "metadata": {
    "slideshow": {
     "slide_type": "subslide"
    }
   },
   "source": [
    "Calculate square root of each `sum_sqdiff`"
   ]
  },
  {
   "cell_type": "code",
   "execution_count": 9,
   "metadata": {
    "ExecuteTime": {
     "end_time": "2019-02-02T14:28:21.021690Z",
     "start_time": "2019-02-02T14:28:21.015749Z"
    },
    "slideshow": {
     "slide_type": "fragment"
    }
   },
   "outputs": [
    {
     "name": "stdout",
     "output_type": "stream",
     "text": [
      "[ 2.      4.25    0.3125  3.25   10.      6.25   18.     13.     13.25\n",
      " 13.25  ]\n"
     ]
    },
    {
     "data": {
      "text/plain": [
       "array([1.41421356, 2.06155281, 0.55901699, 1.80277564, 3.16227766,\n",
       "       2.5       , 4.24264069, 3.60555128, 3.64005494, 3.64005494])"
      ]
     },
     "execution_count": 9,
     "metadata": {},
     "output_type": "execute_result"
    }
   ],
   "source": [
    "print(sum_sqdiff)\n",
    "np.sqrt(sum_sqdiff)"
   ]
  },
  {
   "cell_type": "markdown",
   "metadata": {
    "slideshow": {
     "slide_type": "slide"
    }
   },
   "source": [
    "## Put those scratch code together to create a function that calculate distances"
   ]
  },
  {
   "cell_type": "code",
   "execution_count": 10,
   "metadata": {
    "ExecuteTime": {
     "end_time": "2019-02-02T14:28:23.815465Z",
     "start_time": "2019-02-02T14:28:23.812103Z"
    },
    "slideshow": {
     "slide_type": "fragment"
    }
   },
   "outputs": [],
   "source": [
    "def distance(X, y):\n",
    "#     return np.sqrt(np.sum((X - y)**2, axis=1))\n",
    "    return np.sqrt(np.sum((X - y)**2, axis=1))"
   ]
  },
  {
   "cell_type": "markdown",
   "metadata": {
    "slideshow": {
     "slide_type": "fragment"
    }
   },
   "source": [
    "Call `distance(X, y)` function for test and see the results"
   ]
  },
  {
   "cell_type": "code",
   "execution_count": 11,
   "metadata": {
    "ExecuteTime": {
     "end_time": "2019-02-02T14:28:25.190221Z",
     "start_time": "2019-02-02T14:28:25.184830Z"
    }
   },
   "outputs": [
    {
     "data": {
      "text/plain": [
       "array([5.65685425, 2.82842712])"
      ]
     },
     "execution_count": 11,
     "metadata": {},
     "output_type": "execute_result"
    }
   ],
   "source": [
    "distance(np.array([[1, 2], [3, 4]]), [5, 6]) "
   ]
  },
  {
   "cell_type": "markdown",
   "metadata": {
    "slideshow": {
     "slide_type": "slide"
    }
   },
   "source": [
    "## Create the predictor"
   ]
  },
  {
   "cell_type": "markdown",
   "metadata": {
    "ExecuteTime": {
     "end_time": "2019-01-30T10:22:48.790290Z",
     "start_time": "2019-01-30T10:22:48.785022Z"
    },
    "slideshow": {
     "slide_type": "subslide"
    }
   },
   "source": [
    "Lets see how we can predict the label of a test instance `[3, 2]`"
   ]
  },
  {
   "cell_type": "code",
   "execution_count": 12,
   "metadata": {
    "ExecuteTime": {
     "end_time": "2019-02-02T14:28:27.789584Z",
     "start_time": "2019-02-02T14:28:27.785615Z"
    },
    "slideshow": {
     "slide_type": "fragment"
    }
   },
   "outputs": [
    {
     "data": {
      "text/plain": [
       "array([1.41421356, 2.06155281, 0.55901699, 1.80277564, 3.16227766,\n",
       "       2.5       , 4.24264069, 3.60555128, 3.64005494, 3.64005494])"
      ]
     },
     "execution_count": 12,
     "metadata": {},
     "output_type": "execute_result"
    }
   ],
   "source": [
    "dist = distance(X_train, [3, 2])\n",
    "dist"
   ]
  },
  {
   "cell_type": "code",
   "execution_count": 13,
   "metadata": {
    "ExecuteTime": {
     "end_time": "2019-02-02T14:28:29.220074Z",
     "start_time": "2019-02-02T14:28:29.213965Z"
    },
    "slideshow": {
     "slide_type": "fragment"
    }
   },
   "outputs": [
    {
     "data": {
      "text/plain": [
       "array([2, 0, 3, 1, 5, 4, 7, 8, 9, 6])"
      ]
     },
     "execution_count": 13,
     "metadata": {},
     "output_type": "execute_result"
    }
   ],
   "source": [
    "min_idx = np.argsort(dist)\n",
    "min_idx"
   ]
  },
  {
   "cell_type": "code",
   "execution_count": 14,
   "metadata": {
    "ExecuteTime": {
     "end_time": "2019-02-02T14:28:31.307379Z",
     "start_time": "2019-02-02T14:28:31.302724Z"
    },
    "slideshow": {
     "slide_type": "fragment"
    }
   },
   "outputs": [
    {
     "data": {
      "text/plain": [
       "array(['blue', 'red', 'red', 'red', 'blue'], dtype='<U4')"
      ]
     },
     "execution_count": 14,
     "metadata": {},
     "output_type": "execute_result"
    }
   ],
   "source": [
    "k_min_labels = y_train[min_idx[:5]]  # k < total number of training examples\n",
    "k_min_labels"
   ]
  },
  {
   "cell_type": "code",
   "execution_count": 15,
   "metadata": {
    "ExecuteTime": {
     "end_time": "2019-02-02T14:28:32.561620Z",
     "start_time": "2019-02-02T14:28:32.557232Z"
    },
    "slideshow": {
     "slide_type": "fragment"
    }
   },
   "outputs": [
    {
     "data": {
      "text/plain": [
       "(array(['blue', 'red'], dtype='<U4'), array([2, 3]))"
      ]
     },
     "execution_count": 15,
     "metadata": {},
     "output_type": "execute_result"
    }
   ],
   "source": [
    "values, counts = np.unique(k_min_labels, return_counts=True)\n",
    "values, counts"
   ]
  },
  {
   "cell_type": "code",
   "execution_count": 16,
   "metadata": {
    "ExecuteTime": {
     "end_time": "2019-02-02T14:28:33.436467Z",
     "start_time": "2019-02-02T14:28:33.430065Z"
    },
    "slideshow": {
     "slide_type": "fragment"
    }
   },
   "outputs": [
    {
     "data": {
      "text/plain": [
       "'red'"
      ]
     },
     "execution_count": 16,
     "metadata": {},
     "output_type": "execute_result"
    }
   ],
   "source": [
    "values[np.argmax(counts)]"
   ]
  },
  {
   "cell_type": "markdown",
   "metadata": {
    "slideshow": {
     "slide_type": "slide"
    }
   },
   "source": [
    "# Create a function to predict labels of test set"
   ]
  },
  {
   "cell_type": "code",
   "execution_count": 17,
   "metadata": {
    "ExecuteTime": {
     "end_time": "2019-02-02T14:28:34.872818Z",
     "start_time": "2019-02-02T14:28:34.867203Z"
    },
    "slideshow": {
     "slide_type": "fragment"
    }
   },
   "outputs": [],
   "source": [
    "def knn_predictor(X_train, y_train, predict_X, k):\n",
    "    y_predict = []\n",
    "    for predict_x in predict_X:\n",
    "        dist = distance(X_train, predict_x)\n",
    "        min_idx = np.argsort(dist)\n",
    "        k_min_labels = y_train[min_idx[:k]]\n",
    "        values, counts = np.unique(k_min_labels, return_counts=True)\n",
    "        y_predict.append(values[np.argmax(counts)])\n",
    "    return np.array(y_predict)"
   ]
  },
  {
   "cell_type": "markdown",
   "metadata": {
    "slideshow": {
     "slide_type": "slide"
    }
   },
   "source": [
    "# Using `knn_predictor(X_train, y_train, X_test, k)` for prediction"
   ]
  },
  {
   "cell_type": "markdown",
   "metadata": {
    "slideshow": {
     "slide_type": "subslide"
    }
   },
   "source": [
    "#### Create data for prediction"
   ]
  },
  {
   "cell_type": "code",
   "execution_count": 18,
   "metadata": {
    "ExecuteTime": {
     "end_time": "2019-02-02T14:28:36.974100Z",
     "start_time": "2019-02-02T14:28:36.968760Z"
    },
    "slideshow": {
     "slide_type": "-"
    }
   },
   "outputs": [],
   "source": [
    "predict_X = np.array([[5.5, 6],\n",
    "                      [6, 4],\n",
    "                      [3, 2],\n",
    "                      [2, 3.5]])"
   ]
  },
  {
   "cell_type": "markdown",
   "metadata": {
    "ExecuteTime": {
     "end_time": "2019-01-30T10:42:22.302767Z",
     "start_time": "2019-01-30T10:42:22.295754Z"
    },
    "slideshow": {
     "slide_type": "fragment"
    }
   },
   "source": [
    "#### Call predictor"
   ]
  },
  {
   "cell_type": "code",
   "execution_count": 19,
   "metadata": {
    "ExecuteTime": {
     "end_time": "2019-02-02T14:28:39.657083Z",
     "start_time": "2019-02-02T14:28:39.652406Z"
    },
    "slideshow": {
     "slide_type": "-"
    }
   },
   "outputs": [
    {
     "data": {
      "text/plain": [
       "array(['blue', 'blue', 'red', 'red'], dtype='<U4')"
      ]
     },
     "execution_count": 19,
     "metadata": {},
     "output_type": "execute_result"
    }
   ],
   "source": [
    "y_predict = knn_predictor(X_train, y_train, predict_X, k=3)\n",
    "y_predict"
   ]
  },
  {
   "cell_type": "markdown",
   "metadata": {
    "slideshow": {
     "slide_type": "slide"
    }
   },
   "source": [
    "# Visualize the prediction"
   ]
  },
  {
   "cell_type": "code",
   "execution_count": 20,
   "metadata": {
    "ExecuteTime": {
     "end_time": "2019-02-02T14:28:43.261566Z",
     "start_time": "2019-02-02T14:28:43.101413Z"
    },
    "slideshow": {
     "slide_type": "fragment"
    }
   },
   "outputs": [
    {
     "data": {
      "text/plain": [
       "<matplotlib.collections.PathCollection at 0x7fae84b81f28>"
      ]
     },
     "execution_count": 20,
     "metadata": {},
     "output_type": "execute_result"
    },
    {
     "data": {
      "image/png": "[encoded data removed]",
      "text/plain": [
       "<Figure size 432x288 with 1 Axes>"
      ]
     },
     "metadata": {
      "needs_background": "light"
     },
     "output_type": "display_data"
    }
   ],
   "source": [
    "# plot training data with `dot`(default) as marker\n",
    "plt.scatter(X_train[:, 0], X_train[:, 1], s=60, color=y_train)\n",
    "\n",
    "# plot prediction data with 'X' as marker\n",
    "plt.scatter(predict_X[:, 0], predict_X[:, 1], s=60, marker='x', color=y_predict)"
   ]
  },
  {
   "cell_type": "markdown",
   "metadata": {
    "slideshow": {
     "slide_type": "slide"
    }
   },
   "source": [
    "# Using machine learning library (scikit-learn)"
   ]
  },
  {
   "cell_type": "code",
   "execution_count": 21,
   "metadata": {
    "ExecuteTime": {
     "end_time": "2019-02-02T14:28:47.417604Z",
     "start_time": "2019-02-02T14:28:47.055600Z"
    },
    "slideshow": {
     "slide_type": "fragment"
    }
   },
   "outputs": [
    {
     "data": {
      "text/plain": [
       "array(['blue', 'blue', 'red', 'red'], dtype='<U4')"
      ]
     },
     "execution_count": 21,
     "metadata": {},
     "output_type": "execute_result"
    }
   ],
   "source": [
    "from sklearn.neighbors import KNeighborsClassifier\n",
    "neigh = KNeighborsClassifier(n_neighbors=3)\n",
    "neigh.fit(X_train, y_train)\n",
    "y_prediction = neigh.predict(predict_X) \n",
    "y_prediction"
   ]
  },
  {
   "cell_type": "code",
   "execution_count": 22,
   "metadata": {
    "ExecuteTime": {
     "end_time": "2019-02-02T14:28:48.604089Z",
     "start_time": "2019-02-02T14:28:48.381505Z"
    }
   },
   "outputs": [
    {
     "data": {
      "text/plain": [
       "<matplotlib.collections.PathCollection at 0x7fae699b4208>"
      ]
     },
     "execution_count": 22,
     "metadata": {},
     "output_type": "execute_result"
    },
    {
     "data": {
      "image/png": "[encoded data removed]",
      "text/plain": [
       "<Figure size 432x288 with 1 Axes>"
      ]
     },
     "metadata": {
      "needs_background": "light"
     },
     "output_type": "display_data"
    }
   ],
   "source": [
    "plt.scatter(X_train[:, 0], X_train[:, 1], s=100, color=y_train)\n",
    "plt.scatter(predict_X[:, 0], predict_X[:, 1], s=100, color=y_prediction, marker='x')"
   ]
  },
  {
   "cell_type": "markdown",
   "metadata": {
    "slideshow": {
     "slide_type": "slide"
    }
   },
   "source": [
    "<img src=\"images/machinelearning_meme.png\">"
   ]
  },
  {
   "cell_type": "markdown",
   "metadata": {
    "slideshow": {
     "slide_type": "slide"
    }
   },
   "source": [
    "# Lets use kNN to recognize digits"
   ]
  },
  {
   "cell_type": "markdown",
   "metadata": {
    "slideshow": {
     "slide_type": "subslide"
    }
   },
   "source": [
    "### Wait kNN requires training data to which we can measure distance from data to be predicted.\n",
    "### And we have image!!!!\n",
    "#### How can we measure distance between images?"
   ]
  },
  {
   "cell_type": "markdown",
   "metadata": {
    "slideshow": {
     "slide_type": "fragment"
    }
   },
   "source": [
    "Welcome to the world of data preprocessing\n",
    "- About 75% of machine learning task, because machine algorithm are `from sklearn import *`\n",
    "- Handling missing datas\n",
    "- Feature scaling\n",
    "- Data representation ready to be feed in ML Algorithms and, so on."
   ]
  },
  {
   "cell_type": "markdown",
   "metadata": {
    "slideshow": {
     "slide_type": "slide"
    }
   },
   "source": [
    "## How image can be represented in numpy?"
   ]
  },
  {
   "cell_type": "markdown",
   "metadata": {
    "slideshow": {
     "slide_type": "fragment"
    }
   },
   "source": [
    "<img src=\"images/imagematrix.png\">"
   ]
  },
  {
   "cell_type": "markdown",
   "metadata": {},
   "source": [
    "#### We can unravel 2D-Matrix represntation to 1D-Vector\n",
    "\\begin{array}\n",
    "\\big[ 157 & 153 & .... & 155 & 156 & 155 & 182 & ... & ......... & 243 & 236 & 196 & ... & 13 & 96 & 218 \\big]\n",
    "\\end{array}\n"
   ]
  },
  {
   "cell_type": "markdown",
   "metadata": {
    "slideshow": {
     "slide_type": "slide"
    }
   },
   "source": [
    "# Searching for datasets"
   ]
  },
  {
   "cell_type": "markdown",
   "metadata": {
    "slideshow": {
     "slide_type": "fragment"
    }
   },
   "source": [
    "### sklearn provides  some common dataset like MNIST, Iris, etc"
   ]
  },
  {
   "cell_type": "code",
   "execution_count": 23,
   "metadata": {
    "ExecuteTime": {
     "end_time": "2019-02-02T14:29:05.229032Z",
     "start_time": "2019-02-02T14:29:05.200704Z"
    }
   },
   "outputs": [],
   "source": [
    "import numpy as np\n",
    "import matplotlib.pyplot as plt\n",
    "from sklearn.neighbors import KNeighborsClassifier\n",
    "from sklearn import datasets"
   ]
  },
  {
   "cell_type": "code",
   "execution_count": 24,
   "metadata": {
    "ExecuteTime": {
     "end_time": "2019-02-02T14:29:06.127621Z",
     "start_time": "2019-02-02T14:29:06.054959Z"
    },
    "slideshow": {
     "slide_type": "fragment"
    }
   },
   "outputs": [],
   "source": [
    "mnist = datasets.load_digits()"
   ]
  },
  {
   "cell_type": "markdown",
   "metadata": {
    "slideshow": {
     "slide_type": "slide"
    }
   },
   "source": [
    "## Understanding data is important.\n",
    "### Inspect datasets"
   ]
  },
  {
   "cell_type": "markdown",
   "metadata": {
    "slideshow": {
     "slide_type": "subslide"
    }
   },
   "source": [
    "#### Python can print almost every object in most readable format"
   ]
  },
  {
   "cell_type": "code",
   "execution_count": 25,
   "metadata": {
    "ExecuteTime": {
     "end_time": "2019-02-02T14:29:10.529986Z",
     "start_time": "2019-02-02T14:29:10.522202Z"
    },
    "scrolled": true,
    "slideshow": {
     "slide_type": "fragment"
    }
   },
   "outputs": [
    {
     "data": {
      "text/plain": [
       "{'data': array([[ 0.,  0.,  5., ...,  0.,  0.,  0.],\n",
       "        [ 0.,  0.,  0., ..., 10.,  0.,  0.],\n",
       "        [ 0.,  0.,  0., ..., 16.,  9.,  0.],\n",
       "        ...,\n",
       "        [ 0.,  0.,  1., ...,  6.,  0.,  0.],\n",
       "        [ 0.,  0.,  2., ..., 12.,  0.,  0.],\n",
       "        [ 0.,  0., 10., ..., 12.,  1.,  0.]]),\n",
       " 'target': array([0, 1, 2, ..., 8, 9, 8]),\n",
       " 'target_names': array([0, 1, 2, 3, 4, 5, 6, 7, 8, 9]),\n",
       " 'images': array([[[ 0.,  0.,  5., ...,  1.,  0.,  0.],\n",
       "         [ 0.,  0., 13., ..., 15.,  5.,  0.],\n",
       "         [ 0.,  3., 15., ..., 11.,  8.,  0.],\n",
       "         ...,\n",
       "         [ 0.,  4., 11., ..., 12.,  7.,  0.],\n",
       "         [ 0.,  2., 14., ..., 12.,  0.,  0.],\n",
       "         [ 0.,  0.,  6., ...,  0.,  0.,  0.]],\n",
       " \n",
       "        [[ 0.,  0.,  0., ...,  5.,  0.,  0.],\n",
       "         [ 0.,  0.,  0., ...,  9.,  0.,  0.],\n",
       "         [ 0.,  0.,  3., ...,  6.,  0.,  0.],\n",
       "         ...,\n",
       "         [ 0.,  0.,  1., ...,  6.,  0.,  0.],\n",
       "         [ 0.,  0.,  1., ...,  6.,  0.,  0.],\n",
       "         [ 0.,  0.,  0., ..., 10.,  0.,  0.]],\n",
       " \n",
       "        [[ 0.,  0.,  0., ..., 12.,  0.,  0.],\n",
       "         [ 0.,  0.,  3., ..., 14.,  0.,  0.],\n",
       "         [ 0.,  0.,  8., ..., 16.,  0.,  0.],\n",
       "         ...,\n",
       "         [ 0.,  9., 16., ...,  0.,  0.,  0.],\n",
       "         [ 0.,  3., 13., ..., 11.,  5.,  0.],\n",
       "         [ 0.,  0.,  0., ..., 16.,  9.,  0.]],\n",
       " \n",
       "        ...,\n",
       " \n",
       "        [[ 0.,  0.,  1., ...,  1.,  0.,  0.],\n",
       "         [ 0.,  0., 13., ...,  2.,  1.,  0.],\n",
       "         [ 0.,  0., 16., ..., 16.,  5.,  0.],\n",
       "         ...,\n",
       "         [ 0.,  0., 16., ..., 15.,  0.,  0.],\n",
       "         [ 0.,  0., 15., ..., 16.,  0.,  0.],\n",
       "         [ 0.,  0.,  2., ...,  6.,  0.,  0.]],\n",
       " \n",
       "        [[ 0.,  0.,  2., ...,  0.,  0.,  0.],\n",
       "         [ 0.,  0., 14., ..., 15.,  1.,  0.],\n",
       "         [ 0.,  4., 16., ..., 16.,  7.,  0.],\n",
       "         ...,\n",
       "         [ 0.,  0.,  0., ..., 16.,  2.,  0.],\n",
       "         [ 0.,  0.,  4., ..., 16.,  2.,  0.],\n",
       "         [ 0.,  0.,  5., ..., 12.,  0.,  0.]],\n",
       " \n",
       "        [[ 0.,  0., 10., ...,  1.,  0.,  0.],\n",
       "         [ 0.,  2., 16., ...,  1.,  0.,  0.],\n",
       "         [ 0.,  0., 15., ..., 15.,  0.,  0.],\n",
       "         ...,\n",
       "         [ 0.,  4., 16., ..., 16.,  6.,  0.],\n",
       "         [ 0.,  8., 16., ..., 16.,  8.,  0.],\n",
       "         [ 0.,  1.,  8., ..., 12.,  1.,  0.]]]),\n",
       " 'DESCR': \".. _digits_dataset:\\n\\nOptical recognition of handwritten digits dataset\\n--------------------------------------------------\\n\\n**Data Set Characteristics:**\\n\\n    :Number of Instances: 5620\\n    :Number of Attributes: 64\\n    :Attribute Information: 8x8 image of integer pixels in the range 0..16.\\n    :Missing Attribute Values: None\\n    :Creator: E. Alpaydin (alpaydin '@' boun.edu.tr)\\n    :Date: July; 1998\\n\\nThis is a copy of the test set of the UCI ML hand-written digits datasets\\nhttp://archive.ics.uci.edu/ml/datasets/Optical+Recognition+of+Handwritten+Digits\\n\\nThe data set contains images of hand-written digits: 10 classes where\\neach class refers to a digit.\\n\\nPreprocessing programs made available by NIST were used to extract\\nnormalized bitmaps of handwritten digits from a preprinted form. From a\\ntotal of 43 people, 30 contributed to the training set and different 13\\nto the test set. 32x32 bitmaps are divided into nonoverlapping blocks of\\n4x4 and the number of on pixels are counted in each block. This generates\\nan input matrix of 8x8 where each element is an integer in the range\\n0..16. This reduces dimensionality and gives invariance to small\\ndistortions.\\n\\nFor info on NIST preprocessing routines, see M. D. Garris, J. L. Blue, G.\\nT. Candela, D. L. Dimmick, J. Geist, P. J. Grother, S. A. Janet, and C.\\nL. Wilson, NIST Form-Based Handprint Recognition System, NISTIR 5469,\\n1994.\\n\\n.. topic:: References\\n\\n  - C. Kaynak (1995) Methods of Combining Multiple Classifiers and Their\\n    Applications to Handwritten Digit Recognition, MSc Thesis, Institute of\\n    Graduate Studies in Science and Engineering, Bogazici University.\\n  - E. Alpaydin, C. Kaynak (1998) Cascading Classifiers, Kybernetika.\\n  - Ken Tang and Ponnuthurai N. Suganthan and Xi Yao and A. Kai Qin.\\n    Linear dimensionalityreduction using relevance weighted LDA. School of\\n    Electrical and Electronic Engineering Nanyang Technological University.\\n    2005.\\n  - Claudio Gentile. A New Approximate Maximal Margin Classification\\n    Algorithm. NIPS. 2000.\"}"
      ]
     },
     "execution_count": 25,
     "metadata": {},
     "output_type": "execute_result"
    }
   ],
   "source": [
    "mnist"
   ]
  },
  {
   "cell_type": "code",
   "execution_count": 26,
   "metadata": {
    "ExecuteTime": {
     "end_time": "2019-02-02T14:29:11.240468Z",
     "start_time": "2019-02-02T14:29:11.235656Z"
    },
    "slideshow": {
     "slide_type": "slide"
    }
   },
   "outputs": [
    {
     "data": {
      "text/plain": [
       "array([[ 0.,  0.,  5., ...,  0.,  0.,  0.],\n",
       "       [ 0.,  0.,  0., ..., 10.,  0.,  0.],\n",
       "       [ 0.,  0.,  0., ..., 16.,  9.,  0.],\n",
       "       ...,\n",
       "       [ 0.,  0.,  1., ...,  6.,  0.,  0.],\n",
       "       [ 0.,  0.,  2., ..., 12.,  0.,  0.],\n",
       "       [ 0.,  0., 10., ..., 12.,  1.,  0.]])"
      ]
     },
     "execution_count": 26,
     "metadata": {},
     "output_type": "execute_result"
    }
   ],
   "source": [
    "mnist.data"
   ]
  },
  {
   "cell_type": "code",
   "execution_count": 27,
   "metadata": {
    "ExecuteTime": {
     "end_time": "2019-02-02T14:29:12.517519Z",
     "start_time": "2019-02-02T14:29:12.512514Z"
    },
    "slideshow": {
     "slide_type": "fragment"
    }
   },
   "outputs": [
    {
     "data": {
      "text/plain": [
       "(1797, 64)"
      ]
     },
     "execution_count": 27,
     "metadata": {},
     "output_type": "execute_result"
    }
   ],
   "source": [
    "mnist.data.shape"
   ]
  },
  {
   "cell_type": "markdown",
   "metadata": {
    "slideshow": {
     "slide_type": "fragment"
    }
   },
   "source": [
    "This means datasets contain 1797 images each with 64 pixels(1D-Matrix representation)"
   ]
  },
  {
   "cell_type": "markdown",
   "metadata": {
    "slideshow": {
     "slide_type": "slide"
    }
   },
   "source": [
    "## Plot a digit using matplotlib"
   ]
  },
  {
   "cell_type": "code",
   "execution_count": 28,
   "metadata": {
    "ExecuteTime": {
     "end_time": "2019-02-02T14:29:21.690532Z",
     "start_time": "2019-02-02T14:29:21.683641Z"
    },
    "slideshow": {
     "slide_type": "fragment"
    }
   },
   "outputs": [
    {
     "data": {
      "text/plain": [
       "array([[ 0.,  0.,  0.,  2., 13.,  0.,  0.,  0.],\n",
       "       [ 0.,  0.,  0.,  8., 15.,  0.,  0.,  0.],\n",
       "       [ 0.,  0.,  5., 16.,  5.,  2.,  0.,  0.],\n",
       "       [ 0.,  0., 15., 12.,  1., 16.,  4.,  0.],\n",
       "       [ 0.,  4., 16.,  2.,  9., 16.,  8.,  0.],\n",
       "       [ 0.,  0., 10., 14., 16., 16.,  4.,  0.],\n",
       "       [ 0.,  0.,  0.,  0., 13.,  8.,  0.,  0.],\n",
       "       [ 0.,  0.,  0.,  0., 13.,  6.,  0.,  0.]])"
      ]
     },
     "execution_count": 28,
     "metadata": {},
     "output_type": "execute_result"
    }
   ],
   "source": [
    "n=100\n",
    "test_plot_digit = mnist.data[n].reshape(8, 8)\n",
    "test_plot_digit   "
   ]
  },
  {
   "cell_type": "code",
   "execution_count": 31,
   "metadata": {
    "ExecuteTime": {
     "end_time": "2019-02-02T14:29:42.491274Z",
     "start_time": "2019-02-02T14:29:42.278994Z"
    }
   },
   "outputs": [
    {
     "data": {
      "text/plain": [
       "<matplotlib.image.AxesImage at 0x7fae65a28240>"
      ]
     },
     "execution_count": 31,
     "metadata": {},
     "output_type": "execute_result"
    },
    {
     "data": {
      "image/png": "[encoded data removed]",
      "text/plain": [
       "<Figure size 432x288 with 1 Axes>"
      ]
     },
     "metadata": {
      "needs_background": "light"
     },
     "output_type": "display_data"
    }
   ],
   "source": [
    "plt.imshow(test_plot_digit, cmap='gray')"
   ]
  },
  {
   "cell_type": "code",
   "execution_count": 32,
   "metadata": {
    "ExecuteTime": {
     "end_time": "2019-02-02T14:29:43.627089Z",
     "start_time": "2019-02-02T14:29:43.623238Z"
    }
   },
   "outputs": [
    {
     "data": {
      "text/plain": [
       "1"
      ]
     },
     "execution_count": 32,
     "metadata": {},
     "output_type": "execute_result"
    }
   ],
   "source": [
    "mnist.target[n]"
   ]
  },
  {
   "cell_type": "code",
   "execution_count": 33,
   "metadata": {
    "ExecuteTime": {
     "end_time": "2019-02-02T14:29:44.759630Z",
     "start_time": "2019-02-02T14:29:44.609694Z"
    },
    "slideshow": {
     "slide_type": "fragment"
    }
   },
   "outputs": [
    {
     "name": "stdout",
     "output_type": "stream",
     "text": [
      "1\n"
     ]
    },
    {
     "data": {
      "image/png": "[encoded data removed]",
      "text/plain": [
       "<Figure size 432x288 with 1 Axes>"
      ]
     },
     "metadata": {
      "needs_background": "light"
     },
     "output_type": "display_data"
    }
   ],
   "source": [
    "plt.imshow(test_plot_digit, cmap='gray')  # You can also use `mnist.image[n]`\n",
    "print(mnist.target[n])"
   ]
  },
  {
   "cell_type": "markdown",
   "metadata": {
    "slideshow": {
     "slide_type": "slide"
    }
   },
   "source": [
    "# Visualizing the Dataset"
   ]
  },
  {
   "cell_type": "markdown",
   "metadata": {
    "slideshow": {
     "slide_type": "fragment"
    }
   },
   "source": [
    "PCA Algorithm can reduce dimension of datasets\n"
   ]
  },
  {
   "cell_type": "markdown",
   "metadata": {
    "ExecuteTime": {
     "end_time": "2019-01-31T16:34:07.487476Z",
     "start_time": "2019-01-31T16:34:07.483483Z"
    }
   },
   "source": [
    "<img src=\"images/DimensionalityReduction.png\" style=\"height:500px\">"
   ]
  },
  {
   "cell_type": "markdown",
   "metadata": {
    "slideshow": {
     "slide_type": "slide"
    }
   },
   "source": [
    "## Now we will visualize MNIST digit dataset using PCA Algorithm"
   ]
  },
  {
   "cell_type": "markdown",
   "metadata": {
    "slideshow": {
     "slide_type": "fragment"
    }
   },
   "source": [
    "#### Import matplotlib 3d library"
   ]
  },
  {
   "cell_type": "code",
   "execution_count": 34,
   "metadata": {
    "ExecuteTime": {
     "end_time": "2019-02-02T14:29:51.955119Z",
     "start_time": "2019-02-02T14:29:51.945992Z"
    }
   },
   "outputs": [],
   "source": [
    "from mpl_toolkits.mplot3d import Axes3D"
   ]
  },
  {
   "cell_type": "markdown",
   "metadata": {
    "slideshow": {
     "slide_type": "fragment"
    }
   },
   "source": [
    "#### Import PCA algorithm"
   ]
  },
  {
   "cell_type": "code",
   "execution_count": 35,
   "metadata": {
    "ExecuteTime": {
     "end_time": "2019-02-02T14:29:53.588722Z",
     "start_time": "2019-02-02T14:29:53.543541Z"
    }
   },
   "outputs": [],
   "source": [
    "from sklearn.decomposition import PCA"
   ]
  },
  {
   "cell_type": "markdown",
   "metadata": {
    "slideshow": {
     "slide_type": "subslide"
    }
   },
   "source": [
    "### Create a PCA instance with 3 principal components; we want 3d plot of 64d data"
   ]
  },
  {
   "cell_type": "code",
   "execution_count": 36,
   "metadata": {
    "ExecuteTime": {
     "end_time": "2019-02-02T14:29:55.411721Z",
     "start_time": "2019-02-02T14:29:55.408958Z"
    },
    "slideshow": {
     "slide_type": "-"
    }
   },
   "outputs": [],
   "source": [
    "pca = PCA(n_components=3)"
   ]
  },
  {
   "cell_type": "markdown",
   "metadata": {
    "slideshow": {
     "slide_type": "fragment"
    }
   },
   "source": [
    "### Transform the MNIST 64d data to 3d"
   ]
  },
  {
   "cell_type": "code",
   "execution_count": 37,
   "metadata": {
    "ExecuteTime": {
     "end_time": "2019-02-02T14:29:57.284561Z",
     "start_time": "2019-02-02T14:29:57.257431Z"
    }
   },
   "outputs": [
    {
     "data": {
      "text/plain": [
       "(array([[ -1.25946625,  21.2748827 ,  -9.46305309],\n",
       "        [  7.95761131, -20.76870356,   4.43950755],\n",
       "        [  6.99192296,  -9.95598465,   2.95855627],\n",
       "        ...,\n",
       "        [ 10.8012843 ,  -6.96025077,   5.59955334],\n",
       "        [ -4.8720993 ,  12.42394342, -10.17085968],\n",
       "        [ -0.34438947,   6.3655556 ,  10.77370579]]), (1797, 3))"
      ]
     },
     "execution_count": 37,
     "metadata": {},
     "output_type": "execute_result"
    }
   ],
   "source": [
    "mnist_pca = pca.fit_transform(mnist.data)\n",
    "mnist_pca, mnist_pca.shape"
   ]
  },
  {
   "cell_type": "code",
   "execution_count": 38,
   "metadata": {
    "ExecuteTime": {
     "end_time": "2019-02-02T14:29:59.225678Z",
     "start_time": "2019-02-02T14:29:58.317674Z"
    },
    "slideshow": {
     "slide_type": "subslide"
    }
   },
   "outputs": [
    {
     "data": {
      "application/javascript": [
       "/* Put everything inside the global mpl namespace */\n",
       "window.mpl = {};\n",
       "\n",
       "\n",
       "mpl.get_websocket_type = function() {\n",
       "    if (typeof(WebSocket) !== 'undefined') {\n",
       "        return WebSocket;\n",
       "    } else if (typeof(MozWebSocket) !== 'undefined') {\n",
       "        return MozWebSocket;\n",
       "    } else {\n",
       "        alert('Your browser does not have WebSocket support.' +\n",
       "              'Please try Chrome, Safari or Firefox ≥ 6. ' +\n",
       "              'Firefox 4 and 5 are also supported but you ' +\n",
       "              'have to enable WebSockets in about:config.');\n",
       "    };\n",
       "}\n",
       "\n",
       "mpl.figure = function(figure_id, websocket, ondownload, parent_element) {\n",
       "    this.id = figure_id;\n",
       "\n",
       "    this.ws = websocket;\n",
       "\n",
       "    this.supports_binary = (this.ws.binaryType != undefined);\n",
       "\n",
       "    if (!this.supports_binary) {\n",
       "        var warnings = document.getElementById(\"mpl-warnings\");\n",
       "        if (warnings) {\n",
       "            warnings.style.display = 'block';\n",
       "            warnings.textContent = (\n",
       "                \"This browser does not support binary websocket messages. \" +\n",
       "                    \"Performance may be slow.\");\n",
       "        }\n",
       "    }\n",
       "\n",
       "    this.imageObj = new Image();\n",
       "\n",
       "    this.context = undefined;\n",
       "    this.message = undefined;\n",
       "    this.canvas = undefined;\n",
       "    this.rubberband_canvas = undefined;\n",
       "    this.rubberband_context = undefined;\n",
       "    this.format_dropdown = undefined;\n",
       "\n",
       "    this.image_mode = 'full';\n",
       "\n",
       "    this.root = $('<div/>');\n",
       "    this._root_extra_style(this.root)\n",
       "    this.root.attr('style', 'display: inline-block');\n",
       "\n",
       "    $(parent_element).append(this.root);\n",
       "\n",
       "    this._init_header(this);\n",
       "    this._init_canvas(this);\n",
       "    this._init_toolbar(this);\n",
       "\n",
       "    var fig = this;\n",
       "\n",
       "    this.waiting = false;\n",
       "\n",
       "    this.ws.onopen =  function () {\n",
       "            fig.send_message(\"supports_binary\", {value: fig.supports_binary});\n",
       "            fig.send_message(\"send_image_mode\", {});\n",
       "            if (mpl.ratio != 1) {\n",
       "                fig.send_message(\"set_dpi_ratio\", {'dpi_ratio': mpl.ratio});\n",
       "            }\n",
       "            fig.send_message(\"refresh\", {});\n",
       "        }\n",
       "\n",
       "    this.imageObj.onload = function() {\n",
       "            if (fig.image_mode == 'full') {\n",
       "                // Full images could contain transparency (where diff images\n",
       "                // almost always do), so we need to clear the canvas so that\n",
       "                // there is no ghosting.\n",
       "                fig.context.clearRect(0, 0, fig.canvas.width, fig.canvas.height);\n",
       "            }\n",
       "            fig.context.drawImage(fig.imageObj, 0, 0);\n",
       "        };\n",
       "\n",
       "    this.imageObj.onunload = function() {\n",
       "        fig.ws.close();\n",
       "    }\n",
       "\n",
       "    this.ws.onmessage = this._make_on_message_function(this);\n",
       "\n",
       "    this.ondownload = ondownload;\n",
       "}\n",
       "\n",
       "mpl.figure.prototype._init_header = function() {\n",
       "    var titlebar = $(\n",
       "        '<div class=\"ui-dialog-titlebar ui-widget-header ui-corner-all ' +\n",
       "        'ui-helper-clearfix\"/>');\n",
       "    var titletext = $(\n",
       "        '<div class=\"ui-dialog-title\" style=\"width: 100%; ' +\n",
       "        'text-align: center; padding: 3px;\"/>');\n",
       "    titlebar.append(titletext)\n",
       "    this.root.append(titlebar);\n",
       "    this.header = titletext[0];\n",
       "}\n",
       "\n",
       "\n",
       "\n",
       "mpl.figure.prototype._canvas_extra_style = function(canvas_div) {\n",
       "\n",
       "}\n",
       "\n",
       "\n",
       "mpl.figure.prototype._root_extra_style = function(canvas_div) {\n",
       "\n",
       "}\n",
       "\n",
       "mpl.figure.prototype._init_canvas = function() {\n",
       "    var fig = this;\n",
       "\n",
       "    var canvas_div = $('<div/>');\n",
       "\n",
       "    canvas_div.attr('style', 'position: relative; clear: both; outline: 0');\n",
       "\n",
       "    function canvas_keyboard_event(event) {\n",
       "        return fig.key_event(event, event['data']);\n",
       "    }\n",
       "\n",
       "    canvas_div.keydown('key_press', canvas_keyboard_event);\n",
       "    canvas_div.keyup('key_release', canvas_keyboard_event);\n",
       "    this.canvas_div = canvas_div\n",
       "    this._canvas_extra_style(canvas_div)\n",
       "    this.root.append(canvas_div);\n",
       "\n",
       "    var canvas = $('<canvas/>');\n",
       "    canvas.addClass('mpl-canvas');\n",
       "    canvas.attr('style', \"left: 0; top: 0; z-index: 0; outline: 0\")\n",
       "\n",
       "    this.canvas = canvas[0];\n",
       "    this.context = canvas[0].getContext(\"2d\");\n",
       "\n",
       "    var backingStore = this.context.backingStorePixelRatio ||\n",
       "\tthis.context.webkitBackingStorePixelRatio ||\n",
       "\tthis.context.mozBackingStorePixelRatio ||\n",
       "\tthis.context.msBackingStorePixelRatio ||\n",
       "\tthis.context.oBackingStorePixelRatio ||\n",
       "\tthis.context.backingStorePixelRatio || 1;\n",
       "\n",
       "    mpl.ratio = (window.devicePixelRatio || 1) / backingStore;\n",
       "\n",
       "    var rubberband = $('<canvas/>');\n",
       "    rubberband.attr('style', \"position: absolute; left: 0; top: 0; z-index: 1;\")\n",
       "\n",
       "    var pass_mouse_events = true;\n",
       "\n",
       "    canvas_div.resizable({\n",
       "        start: function(event, ui) {\n",
       "            pass_mouse_events = false;\n",
       "        },\n",
       "        resize: function(event, ui) {\n",
       "            fig.request_resize(ui.size.width, ui.size.height);\n",
       "        },\n",
       "        stop: function(event, ui) {\n",
       "            pass_mouse_events = true;\n",
       "            fig.request_resize(ui.size.width, ui.size.height);\n",
       "        },\n",
       "    });\n",
       "\n",
       "    function mouse_event_fn(event) {\n",
       "        if (pass_mouse_events)\n",
       "            return fig.mouse_event(event, event['data']);\n",
       "    }\n",
       "\n",
       "    rubberband.mousedown('button_press', mouse_event_fn);\n",
       "    rubberband.mouseup('button_release', mouse_event_fn);\n",
       "    // Throttle sequential mouse events to 1 every 20ms.\n",
       "    rubberband.mousemove('motion_notify', mouse_event_fn);\n",
       "\n",
       "    rubberband.mouseenter('figure_enter', mouse_event_fn);\n",
       "    rubberband.mouseleave('figure_leave', mouse_event_fn);\n",
       "\n",
       "    canvas_div.on(\"wheel\", function (event) {\n",
       "        event = event.originalEvent;\n",
       "        event['data'] = 'scroll'\n",
       "        if (event.deltaY < 0) {\n",
       "            event.step = 1;\n",
       "        } else {\n",
       "            event.step = -1;\n",
       "        }\n",
       "        mouse_event_fn(event);\n",
       "    });\n",
       "\n",
       "    canvas_div.append(canvas);\n",
       "    canvas_div.append(rubberband);\n",
       "\n",
       "    this.rubberband = rubberband;\n",
       "    this.rubberband_canvas = rubberband[0];\n",
       "    this.rubberband_context = rubberband[0].getContext(\"2d\");\n",
       "    this.rubberband_context.strokeStyle = \"#000000\";\n",
       "\n",
       "    this._resize_canvas = function(width, height) {\n",
       "        // Keep the size of the canvas, canvas container, and rubber band\n",
       "        // canvas in synch.\n",
       "        canvas_div.css('width', width)\n",
       "        canvas_div.css('height', height)\n",
       "\n",
       "        canvas.attr('width', width * mpl.ratio);\n",
       "        canvas.attr('height', height * mpl.ratio);\n",
       "        canvas.attr('style', 'width: ' + width + 'px; height: ' + height + 'px;');\n",
       "\n",
       "        rubberband.attr('width', width);\n",
       "        rubberband.attr('height', height);\n",
       "    }\n",
       "\n",
       "    // Set the figure to an initial 600x600px, this will subsequently be updated\n",
       "    // upon first draw.\n",
       "    this._resize_canvas(600, 600);\n",
       "\n",
       "    // Disable right mouse context menu.\n",
       "    $(this.rubberband_canvas).bind(\"contextmenu\",function(e){\n",
       "        return false;\n",
       "    });\n",
       "\n",
       "    function set_focus () {\n",
       "        canvas.focus();\n",
       "        canvas_div.focus();\n",
       "    }\n",
       "\n",
       "    window.setTimeout(set_focus, 100);\n",
       "}\n",
       "\n",
       "mpl.figure.prototype._init_toolbar = function() {\n",
       "    var fig = this;\n",
       "\n",
       "    var nav_element = $('<div/>')\n",
       "    nav_element.attr('style', 'width: 100%');\n",
       "    this.root.append(nav_element);\n",
       "\n",
       "    // Define a callback function for later on.\n",
       "    function toolbar_event(event) {\n",
       "        return fig.toolbar_button_onclick(event['data']);\n",
       "    }\n",
       "    function toolbar_mouse_event(event) {\n",
       "        return fig.toolbar_button_onmouseover(event['data']);\n",
       "    }\n",
       "\n",
       "    for(var toolbar_ind in mpl.toolbar_items) {\n",
       "        var name = mpl.toolbar_items[toolbar_ind][0];\n",
       "        var tooltip = mpl.toolbar_items[toolbar_ind][1];\n",
       "        var image = mpl.toolbar_items[toolbar_ind][2];\n",
       "        var method_name = mpl.toolbar_items[toolbar_ind][3];\n",
       "\n",
       "        if (!name) {\n",
       "            // put a spacer in here.\n",
       "            continue;\n",
       "        }\n",
       "        var button = $('<button/>');\n",
       "        button.addClass('ui-button ui-widget ui-state-default ui-corner-all ' +\n",
       "                        'ui-button-icon-only');\n",
       "        button.attr('role', 'button');\n",
       "        button.attr('aria-disabled', 'false');\n",
       "        button.click(method_name, toolbar_event);\n",
       "        button.mouseover(tooltip, toolbar_mouse_event);\n",
       "\n",
       "        var icon_img = $('<span/>');\n",
       "        icon_img.addClass('ui-button-icon-primary ui-icon');\n",
       "        icon_img.addClass(image);\n",
       "        icon_img.addClass('ui-corner-all');\n",
       "\n",
       "        var tooltip_span = $('<span/>');\n",
       "        tooltip_span.addClass('ui-button-text');\n",
       "        tooltip_span.html(tooltip);\n",
       "\n",
       "        button.append(icon_img);\n",
       "        button.append(tooltip_span);\n",
       "\n",
       "        nav_element.append(button);\n",
       "    }\n",
       "\n",
       "    var fmt_picker_span = $('<span/>');\n",
       "\n",
       "    var fmt_picker = $('<select/>');\n",
       "    fmt_picker.addClass('mpl-toolbar-option ui-widget ui-widget-content');\n",
       "    fmt_picker_span.append(fmt_picker);\n",
       "    nav_element.append(fmt_picker_span);\n",
       "    this.format_dropdown = fmt_picker[0];\n",
       "\n",
       "    for (var ind in mpl.extensions) {\n",
       "        var fmt = mpl.extensions[ind];\n",
       "        var option = $(\n",
       "            '<option/>', {selected: fmt === mpl.default_extension}).html(fmt);\n",
       "        fmt_picker.append(option)\n",
       "    }\n",
       "\n",
       "    // Add hover states to the ui-buttons\n",
       "    $( \".ui-button\" ).hover(\n",
       "        function() { $(this).addClass(\"ui-state-hover\");},\n",
       "        function() { $(this).removeClass(\"ui-state-hover\");}\n",
       "    );\n",
       "\n",
       "    var status_bar = $('<span class=\"mpl-message\"/>');\n",
       "    nav_element.append(status_bar);\n",
       "    this.message = status_bar[0];\n",
       "}\n",
       "\n",
       "mpl.figure.prototype.request_resize = function(x_pixels, y_pixels) {\n",
       "    // Request matplotlib to resize the figure. Matplotlib will then trigger a resize in the client,\n",
       "    // which will in turn request a refresh of the image.\n",
       "    this.send_message('resize', {'width': x_pixels, 'height': y_pixels});\n",
       "}\n",
       "\n",
       "mpl.figure.prototype.send_message = function(type, properties) {\n",
       "    properties['type'] = type;\n",
       "    properties['figure_id'] = this.id;\n",
       "    this.ws.send(JSON.stringify(properties));\n",
       "}\n",
       "\n",
       "mpl.figure.prototype.send_draw_message = function() {\n",
       "    if (!this.waiting) {\n",
       "        this.waiting = true;\n",
       "        this.ws.send(JSON.stringify({type: \"draw\", figure_id: this.id}));\n",
       "    }\n",
       "}\n",
       "\n",
       "\n",
       "mpl.figure.prototype.handle_save = function(fig, msg) {\n",
       "    var format_dropdown = fig.format_dropdown;\n",
       "    var format = format_dropdown.options[format_dropdown.selectedIndex].value;\n",
       "    fig.ondownload(fig, format);\n",
       "}\n",
       "\n",
       "\n",
       "mpl.figure.prototype.handle_resize = function(fig, msg) {\n",
       "    var size = msg['size'];\n",
       "    if (size[0] != fig.canvas.width || size[1] != fig.canvas.height) {\n",
       "        fig._resize_canvas(size[0], size[1]);\n",
       "        fig.send_message(\"refresh\", {});\n",
       "    };\n",
       "}\n",
       "\n",
       "mpl.figure.prototype.handle_rubberband = function(fig, msg) {\n",
       "    var x0 = msg['x0'] / mpl.ratio;\n",
       "    var y0 = (fig.canvas.height - msg['y0']) / mpl.ratio;\n",
       "    var x1 = msg['x1'] / mpl.ratio;\n",
       "    var y1 = (fig.canvas.height - msg['y1']) / mpl.ratio;\n",
       "    x0 = Math.floor(x0) + 0.5;\n",
       "    y0 = Math.floor(y0) + 0.5;\n",
       "    x1 = Math.floor(x1) + 0.5;\n",
       "    y1 = Math.floor(y1) + 0.5;\n",
       "    var min_x = Math.min(x0, x1);\n",
       "    var min_y = Math.min(y0, y1);\n",
       "    var width = Math.abs(x1 - x0);\n",
       "    var height = Math.abs(y1 - y0);\n",
       "\n",
       "    fig.rubberband_context.clearRect(\n",
       "        0, 0, fig.canvas.width, fig.canvas.height);\n",
       "\n",
       "    fig.rubberband_context.strokeRect(min_x, min_y, width, height);\n",
       "}\n",
       "\n",
       "mpl.figure.prototype.handle_figure_label = function(fig, msg) {\n",
       "    // Updates the figure title.\n",
       "    fig.header.textContent = msg['label'];\n",
       "}\n",
       "\n",
       "mpl.figure.prototype.handle_cursor = function(fig, msg) {\n",
       "    var cursor = msg['cursor'];\n",
       "    switch(cursor)\n",
       "    {\n",
       "    case 0:\n",
       "        cursor = 'pointer';\n",
       "        break;\n",
       "    case 1:\n",
       "        cursor = 'default';\n",
       "        break;\n",
       "    case 2:\n",
       "        cursor = 'crosshair';\n",
       "        break;\n",
       "    case 3:\n",
       "        cursor = 'move';\n",
       "        break;\n",
       "    }\n",
       "    fig.rubberband_canvas.style.cursor = cursor;\n",
       "}\n",
       "\n",
       "mpl.figure.prototype.handle_message = function(fig, msg) {\n",
       "    fig.message.textContent = msg['message'];\n",
       "}\n",
       "\n",
       "mpl.figure.prototype.handle_draw = function(fig, msg) {\n",
       "    // Request the server to send over a new figure.\n",
       "    fig.send_draw_message();\n",
       "}\n",
       "\n",
       "mpl.figure.prototype.handle_image_mode = function(fig, msg) {\n",
       "    fig.image_mode = msg['mode'];\n",
       "}\n",
       "\n",
       "mpl.figure.prototype.updated_canvas_event = function() {\n",
       "    // Called whenever the canvas gets updated.\n",
       "    this.send_message(\"ack\", {});\n",
       "}\n",
       "\n",
       "// A function to construct a web socket function for onmessage handling.\n",
       "// Called in the figure constructor.\n",
       "mpl.figure.prototype._make_on_message_function = function(fig) {\n",
       "    return function socket_on_message(evt) {\n",
       "        if (evt.data instanceof Blob) {\n",
       "            /* FIXME: We get \"Resource interpreted as Image but\n",
       "             * transferred with MIME type text/plain:\" errors on\n",
       "             * Chrome.  But how to set the MIME type?  It doesn't seem\n",
       "             * to be part of the websocket stream */\n",
       "            evt.data.type = \"image/png\";\n",
       "\n",
       "            /* Free the memory for the previous frames */\n",
       "            if (fig.imageObj.src) {\n",
       "                (window.URL || window.webkitURL).revokeObjectURL(\n",
       "                    fig.imageObj.src);\n",
       "            }\n",
       "\n",
       "            fig.imageObj.src = (window.URL || window.webkitURL).createObjectURL(\n",
       "                evt.data);\n",
       "            fig.updated_canvas_event();\n",
       "            fig.waiting = false;\n",
       "            return;\n",
       "        }\n",
       "        else if (typeof evt.data === 'string' && evt.data.slice(0, 21) == \"data:image/png;base64\") {\n",
       "            fig.imageObj.src = evt.data;\n",
       "            fig.updated_canvas_event();\n",
       "            fig.waiting = false;\n",
       "            return;\n",
       "        }\n",
       "\n",
       "        var msg = JSON.parse(evt.data);\n",
       "        var msg_type = msg['type'];\n",
       "\n",
       "        // Call the  \"handle_{type}\" callback, which takes\n",
       "        // the figure and JSON message as its only arguments.\n",
       "        try {\n",
       "            var callback = fig[\"handle_\" + msg_type];\n",
       "        } catch (e) {\n",
       "            console.log(\"No handler for the '\" + msg_type + \"' message type: \", msg);\n",
       "            return;\n",
       "        }\n",
       "\n",
       "        if (callback) {\n",
       "            try {\n",
       "                // console.log(\"Handling '\" + msg_type + \"' message: \", msg);\n",
       "                callback(fig, msg);\n",
       "            } catch (e) {\n",
       "                console.log(\"Exception inside the 'handler_\" + msg_type + \"' callback:\", e, e.stack, msg);\n",
       "            }\n",
       "        }\n",
       "    };\n",
       "}\n",
       "\n",
       "// from http://stackoverflow.com/questions/1114465/getting-mouse-location-in-canvas\n",
       "mpl.findpos = function(e) {\n",
       "    //this section is from http://www.quirksmode.org/js/events_properties.html\n",
       "    var targ;\n",
       "    if (!e)\n",
       "        e = window.event;\n",
       "    if (e.target)\n",
       "        targ = e.target;\n",
       "    else if (e.srcElement)\n",
       "        targ = e.srcElement;\n",
       "    if (targ.nodeType == 3) // defeat Safari bug\n",
       "        targ = targ.parentNode;\n",
       "\n",
       "    // jQuery normalizes the pageX and pageY\n",
       "    // pageX,Y are the mouse positions relative to the document\n",
       "    // offset() returns the position of the element relative to the document\n",
       "    var x = e.pageX - $(targ).offset().left;\n",
       "    var y = e.pageY - $(targ).offset().top;\n",
       "\n",
       "    return {\"x\": x, \"y\": y};\n",
       "};\n",
       "\n",
       "/*\n",
       " * return a copy of an object with only non-object keys\n",
       " * we need this to avoid circular references\n",
       " * http://stackoverflow.com/a/24161582/3208463\n",
       " */\n",
       "function simpleKeys (original) {\n",
       "  return Object.keys(original).reduce(function (obj, key) {\n",
       "    if (typeof original[key] !== 'object')\n",
       "        obj[key] = original[key]\n",
       "    return obj;\n",
       "  }, {});\n",
       "}\n",
       "\n",
       "mpl.figure.prototype.mouse_event = function(event, name) {\n",
       "    var canvas_pos = mpl.findpos(event)\n",
       "\n",
       "    if (name === 'button_press')\n",
       "    {\n",
       "        this.canvas.focus();\n",
       "        this.canvas_div.focus();\n",
       "    }\n",
       "\n",
       "    var x = canvas_pos.x * mpl.ratio;\n",
       "    var y = canvas_pos.y * mpl.ratio;\n",
       "\n",
       "    this.send_message(name, {x: x, y: y, button: event.button,\n",
       "                             step: event.step,\n",
       "                             guiEvent: simpleKeys(event)});\n",
       "\n",
       "    /* This prevents the web browser from automatically changing to\n",
       "     * the text insertion cursor when the button is pressed.  We want\n",
       "     * to control all of the cursor setting manually through the\n",
       "     * 'cursor' event from matplotlib */\n",
       "    event.preventDefault();\n",
       "    return false;\n",
       "}\n",
       "\n",
       "mpl.figure.prototype._key_event_extra = function(event, name) {\n",
       "    // Handle any extra behaviour associated with a key event\n",
       "}\n",
       "\n",
       "mpl.figure.prototype.key_event = function(event, name) {\n",
       "\n",
       "    // Prevent repeat events\n",
       "    if (name == 'key_press')\n",
       "    {\n",
       "        if (event.which === this._key)\n",
       "            return;\n",
       "        else\n",
       "            this._key = event.which;\n",
       "    }\n",
       "    if (name == 'key_release')\n",
       "        this._key = null;\n",
       "\n",
       "    var value = '';\n",
       "    if (event.ctrlKey && event.which != 17)\n",
       "        value += \"ctrl+\";\n",
       "    if (event.altKey && event.which != 18)\n",
       "        value += \"alt+\";\n",
       "    if (event.shiftKey && event.which != 16)\n",
       "        value += \"shift+\";\n",
       "\n",
       "    value += 'k';\n",
       "    value += event.which.toString();\n",
       "\n",
       "    this._key_event_extra(event, name);\n",
       "\n",
       "    this.send_message(name, {key: value,\n",
       "                             guiEvent: simpleKeys(event)});\n",
       "    return false;\n",
       "}\n",
       "\n",
       "mpl.figure.prototype.toolbar_button_onclick = function(name) {\n",
       "    if (name == 'download') {\n",
       "        this.handle_save(this, null);\n",
       "    } else {\n",
       "        this.send_message(\"toolbar_button\", {name: name});\n",
       "    }\n",
       "};\n",
       "\n",
       "mpl.figure.prototype.toolbar_button_onmouseover = function(tooltip) {\n",
       "    this.message.textContent = tooltip;\n",
       "};\n",
       "mpl.toolbar_items = [[\"Home\", \"Reset original view\", \"fa fa-home icon-home\", \"home\"], [\"Back\", \"Back to previous view\", \"fa fa-arrow-left icon-arrow-left\", \"back\"], [\"Forward\", \"Forward to next view\", \"fa fa-arrow-right icon-arrow-right\", \"forward\"], [\"\", \"\", \"\", \"\"], [\"Pan\", \"Pan axes with left mouse, zoom with right\", \"fa fa-arrows icon-move\", \"pan\"], [\"Zoom\", \"Zoom to rectangle\", \"fa fa-square-o icon-check-empty\", \"zoom\"], [\"\", \"\", \"\", \"\"], [\"Download\", \"Download plot\", \"fa fa-floppy-o icon-save\", \"download\"]];\n",
       "\n",
       "mpl.extensions = [\"eps\", \"pdf\", \"png\", \"ps\", \"raw\", \"svg\"];\n",
       "\n",
       "mpl.default_extension = \"png\";var comm_websocket_adapter = function(comm) {\n",
       "    // Create a \"websocket\"-like object which calls the given IPython comm\n",
       "    // object with the appropriate methods. Currently this is a non binary\n",
       "    // socket, so there is still some room for performance tuning.\n",
       "    var ws = {};\n",
       "\n",
       "    ws.close = function() {\n",
       "        comm.close()\n",
       "    };\n",
       "    ws.send = function(m) {\n",
       "        //console.log('sending', m);\n",
       "        comm.send(m);\n",
       "    };\n",
       "    // Register the callback with on_msg.\n",
       "    comm.on_msg(function(msg) {\n",
       "        //console.log('receiving', msg['content']['data'], msg);\n",
       "        // Pass the mpl event to the overridden (by mpl) onmessage function.\n",
       "        ws.onmessage(msg['content']['data'])\n",
       "    });\n",
       "    return ws;\n",
       "}\n",
       "\n",
       "mpl.mpl_figure_comm = function(comm, msg) {\n",
       "    // This is the function which gets called when the mpl process\n",
       "    // starts-up an IPython Comm through the \"matplotlib\" channel.\n",
       "\n",
       "    var id = msg.content.data.id;\n",
       "    // Get hold of the div created by the display call when the Comm\n",
       "    // socket was opened in Python.\n",
       "    var element = $(\"#\" + id);\n",
       "    var ws_proxy = comm_websocket_adapter(comm)\n",
       "\n",
       "    function ondownload(figure, format) {\n",
       "        window.open(figure.imageObj.src);\n",
       "    }\n",
       "\n",
       "    var fig = new mpl.figure(id, ws_proxy,\n",
       "                           ondownload,\n",
       "                           element.get(0));\n",
       "\n",
       "    // Call onopen now - mpl needs it, as it is assuming we've passed it a real\n",
       "    // web socket which is closed, not our websocket->open comm proxy.\n",
       "    ws_proxy.onopen();\n",
       "\n",
       "    fig.parent_element = element.get(0);\n",
       "    fig.cell_info = mpl.find_output_cell(\"<div id='\" + id + \"'></div>\");\n",
       "    if (!fig.cell_info) {\n",
       "        console.error(\"Failed to find cell for figure\", id, fig);\n",
       "        return;\n",
       "    }\n",
       "\n",
       "    var output_index = fig.cell_info[2]\n",
       "    var cell = fig.cell_info[0];\n",
       "\n",
       "};\n",
       "\n",
       "mpl.figure.prototype.handle_close = function(fig, msg) {\n",
       "    var width = fig.canvas.width/mpl.ratio\n",
       "    fig.root.unbind('remove')\n",
       "\n",
       "    // Update the output cell to use the data from the current canvas.\n",
       "    fig.push_to_output();\n",
       "    var dataURL = fig.canvas.toDataURL();\n",
       "    // Re-enable the keyboard manager in IPython - without this line, in FF,\n",
       "    // the notebook keyboard shortcuts fail.\n",
       "    IPython.keyboard_manager.enable()\n",
       "    $(fig.parent_element).html('<img src=\"' + dataURL + '\" width=\"' + width + '\">');\n",
       "    fig.close_ws(fig, msg);\n",
       "}\n",
       "\n",
       "mpl.figure.prototype.close_ws = function(fig, msg){\n",
       "    fig.send_message('closing', msg);\n",
       "    // fig.ws.close()\n",
       "}\n",
       "\n",
       "mpl.figure.prototype.push_to_output = function(remove_interactive) {\n",
       "    // Turn the data on the canvas into data in the output cell.\n",
       "    var width = this.canvas.width/mpl.ratio\n",
       "    var dataURL = this.canvas.toDataURL();\n",
       "    this.cell_info[1]['text/html'] = '<img src=\"' + dataURL + '\" width=\"' + width + '\">';\n",
       "}\n",
       "\n",
       "mpl.figure.prototype.updated_canvas_event = function() {\n",
       "    // Tell IPython that the notebook contents must change.\n",
       "    IPython.notebook.set_dirty(true);\n",
       "    this.send_message(\"ack\", {});\n",
       "    var fig = this;\n",
       "    // Wait a second, then push the new image to the DOM so\n",
       "    // that it is saved nicely (might be nice to debounce this).\n",
       "    setTimeout(function () { fig.push_to_output() }, 1000);\n",
       "}\n",
       "\n",
       "mpl.figure.prototype._init_toolbar = function() {\n",
       "    var fig = this;\n",
       "\n",
       "    var nav_element = $('<div/>')\n",
       "    nav_element.attr('style', 'width: 100%');\n",
       "    this.root.append(nav_element);\n",
       "\n",
       "    // Define a callback function for later on.\n",
       "    function toolbar_event(event) {\n",
       "        return fig.toolbar_button_onclick(event['data']);\n",
       "    }\n",
       "    function toolbar_mouse_event(event) {\n",
       "        return fig.toolbar_button_onmouseover(event['data']);\n",
       "    }\n",
       "\n",
       "    for(var toolbar_ind in mpl.toolbar_items){\n",
       "        var name = mpl.toolbar_items[toolbar_ind][0];\n",
       "        var tooltip = mpl.toolbar_items[toolbar_ind][1];\n",
       "        var image = mpl.toolbar_items[toolbar_ind][2];\n",
       "        var method_name = mpl.toolbar_items[toolbar_ind][3];\n",
       "\n",
       "        if (!name) { continue; };\n",
       "\n",
       "        var button = $('<button class=\"btn btn-default\" href=\"#\" title=\"' + name + '\"><i class=\"fa ' + image + ' fa-lg\"></i></button>');\n",
       "        button.click(method_name, toolbar_event);\n",
       "        button.mouseover(tooltip, toolbar_mouse_event);\n",
       "        nav_element.append(button);\n",
       "    }\n",
       "\n",
       "    // Add the status bar.\n",
       "    var status_bar = $('<span class=\"mpl-message\" style=\"text-align:right; float: right;\"/>');\n",
       "    nav_element.append(status_bar);\n",
       "    this.message = status_bar[0];\n",
       "\n",
       "    // Add the close button to the window.\n",
       "    var buttongrp = $('<div class=\"btn-group inline pull-right\"></div>');\n",
       "    var button = $('<button class=\"btn btn-mini btn-primary\" href=\"#\" title=\"Stop Interaction\"><i class=\"fa fa-power-off icon-remove icon-large\"></i></button>');\n",
       "    button.click(function (evt) { fig.handle_close(fig, {}); } );\n",
       "    button.mouseover('Stop Interaction', toolbar_mouse_event);\n",
       "    buttongrp.append(button);\n",
       "    var titlebar = this.root.find($('.ui-dialog-titlebar'));\n",
       "    titlebar.prepend(buttongrp);\n",
       "}\n",
       "\n",
       "mpl.figure.prototype._root_extra_style = function(el){\n",
       "    var fig = this\n",
       "    el.on(\"remove\", function(){\n",
       "\tfig.close_ws(fig, {});\n",
       "    });\n",
       "}\n",
       "\n",
       "mpl.figure.prototype._canvas_extra_style = function(el){\n",
       "    // this is important to make the div 'focusable\n",
       "    el.attr('tabindex', 0)\n",
       "    // reach out to IPython and tell the keyboard manager to turn it's self\n",
       "    // off when our div gets focus\n",
       "\n",
       "    // location in version 3\n",
       "    if (IPython.notebook.keyboard_manager) {\n",
       "        IPython.notebook.keyboard_manager.register_events(el);\n",
       "    }\n",
       "    else {\n",
       "        // location in version 2\n",
       "        IPython.keyboard_manager.register_events(el);\n",
       "    }\n",
       "\n",
       "}\n",
       "\n",
       "mpl.figure.prototype._key_event_extra = function(event, name) {\n",
       "    var manager = IPython.notebook.keyboard_manager;\n",
       "    if (!manager)\n",
       "        manager = IPython.keyboard_manager;\n",
       "\n",
       "    // Check for shift+enter\n",
       "    if (event.shiftKey && event.which == 13) {\n",
       "        this.canvas_div.blur();\n",
       "        event.shiftKey = false;\n",
       "        // Send a \"J\" for go to next cell\n",
       "        event.which = 74;\n",
       "        event.keyCode = 74;\n",
       "        manager.command_mode();\n",
       "        manager.handle_keydown(event);\n",
       "    }\n",
       "}\n",
       "\n",
       "mpl.figure.prototype.handle_save = function(fig, msg) {\n",
       "    fig.ondownload(fig, null);\n",
       "}\n",
       "\n",
       "\n",
       "mpl.find_output_cell = function(html_output) {\n",
       "    // Return the cell and output element which can be found *uniquely* in the notebook.\n",
       "    // Note - this is a bit hacky, but it is done because the \"notebook_saving.Notebook\"\n",
       "    // IPython event is triggered only after the cells have been serialised, which for\n",
       "    // our purposes (turning an active figure into a static one), is too late.\n",
       "    var cells = IPython.notebook.get_cells();\n",
       "    var ncells = cells.length;\n",
       "    for (var i=0; i<ncells; i++) {\n",
       "        var cell = cells[i];\n",
       "        if (cell.cell_type === 'code'){\n",
       "            for (var j=0; j<cell.output_area.outputs.length; j++) {\n",
       "                var data = cell.output_area.outputs[j];\n",
       "                if (data.data) {\n",
       "                    // IPython >= 3 moved mimebundle to data attribute of output\n",
       "                    data = data.data;\n",
       "                }\n",
       "                if (data['text/html'] == html_output) {\n",
       "                    return [cell, data, j];\n",
       "                }\n",
       "            }\n",
       "        }\n",
       "    }\n",
       "}\n",
       "\n",
       "// Register the function which deals with the matplotlib target/channel.\n",
       "// The kernel may be null if the page has been refreshed.\n",
       "if (IPython.notebook.kernel != null) {\n",
       "    IPython.notebook.kernel.comm_manager.register_target('matplotlib', mpl.mpl_figure_comm);\n",
       "}\n"
      ],
      "text/plain": [
       "<IPython.core.display.Javascript object>"
      ]
     },
     "metadata": {},
     "output_type": "display_data"
    },
    {
     "data": {
      "text/html": [
       "<img src=\"data:image/png;base64,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\" width=\"639.8601633300708\">"
      ],
      "text/plain": [
       "<IPython.core.display.HTML object>"
      ]
     },
     "metadata": {},
     "output_type": "display_data"
    },
    {
     "data": {
      "text/plain": [
       "Text(0.5, 0, 'Z Label')"
      ]
     },
     "execution_count": 38,
     "metadata": {},
     "output_type": "execute_result"
    }
   ],
   "source": [
    "%matplotlib notebook\n",
    "fig = plt.figure()\n",
    "ax = fig.add_subplot(111, projection='3d')\n",
    "\n",
    "for label in mnist.target:\n",
    "    ax.text3D(mnist_pca[mnist.target == label, 0].mean(),\n",
    "              mnist_pca[mnist.target == label, 1].mean(),\n",
    "              mnist_pca[mnist.target == label, 2].mean(), label,\n",
    "              bbox=dict(alpha=.5, edgecolor='w', facecolor='w'))\n",
    "\n",
    "ax.scatter(mnist_pca[:, 0], mnist_pca[:, 1], mnist_pca[:, 2], c=mnist.target)\n",
    "ax.set_xlabel('X Label')\n",
    "ax.set_ylabel('Y Label')\n",
    "ax.set_zlabel('Z Label')"
   ]
  },
  {
   "cell_type": "markdown",
   "metadata": {
    "slideshow": {
     "slide_type": "slide"
    }
   },
   "source": [
    "## Datasets are not always such simple. There is high possibility of incorrect labeling, missing values and sometime transfer function need to be aplied in datasets to feed in the algorithms."
   ]
  },
  {
   "cell_type": "markdown",
   "metadata": {
    "slideshow": {
     "slide_type": "fragment"
    }
   },
   "source": [
    "### Statistical, Probabilistics approach are used."
   ]
  },
  {
   "cell_type": "markdown",
   "metadata": {
    "slideshow": {
     "slide_type": "fragment"
    }
   },
   "source": [
    "#### This is where hard work is done."
   ]
  },
  {
   "cell_type": "markdown",
   "metadata": {
    "slideshow": {
     "slide_type": "slide"
    }
   },
   "source": [
    "# Now we have data and `scikit-learn` has algorithm implemented.\n",
    "## What are you waiting for?"
   ]
  },
  {
   "cell_type": "code",
   "execution_count": 39,
   "metadata": {
    "ExecuteTime": {
     "end_time": "2019-02-02T14:30:24.199123Z",
     "start_time": "2019-02-02T14:30:24.188081Z"
    },
    "slideshow": {
     "slide_type": "fragment"
    }
   },
   "outputs": [
    {
     "data": {
      "text/plain": [
       "KNeighborsClassifier(algorithm='auto', leaf_size=30, metric='minkowski',\n",
       "           metric_params=None, n_jobs=None, n_neighbors=6, p=2,\n",
       "           weights='uniform')"
      ]
     },
     "execution_count": 39,
     "metadata": {},
     "output_type": "execute_result"
    }
   ],
   "source": [
    "mnist_neigh = KNeighborsClassifier(n_neighbors=6)\n",
    "mnist_neigh.fit(mnist.data, mnist.target)"
   ]
  },
  {
   "cell_type": "markdown",
   "metadata": {
    "slideshow": {
     "slide_type": "subslide"
    }
   },
   "source": [
    "### Make prediction for an example and check if it is write"
   ]
  },
  {
   "cell_type": "code",
   "execution_count": 42,
   "metadata": {
    "ExecuteTime": {
     "end_time": "2019-02-02T14:30:47.458395Z",
     "start_time": "2019-02-02T14:30:47.444872Z"
    },
    "scrolled": true,
    "slideshow": {
     "slide_type": "fragment"
    }
   },
   "outputs": [
    {
     "ename": "ValueError",
     "evalue": "Expected 2D array, got 1D array instead:\narray=[ 0.  0.  1.  9. 15. 11.  0.  0.  0.  0. 11. 16.  8. 14.  6.  0.  0.  2.\n 16. 10.  0.  9.  9.  0.  0.  1. 16.  4.  0.  8.  8.  0.  0.  4. 16.  4.\n  0.  8.  8.  0.  0.  1. 16.  5.  1. 11.  3.  0.  0.  0. 12. 12. 10. 10.\n  0.  0.  0.  0.  1. 10. 13.  3.  0.  0.].\nReshape your data either using array.reshape(-1, 1) if your data has a single feature or array.reshape(1, -1) if it contains a single sample.",
     "output_type": "error",
     "traceback": [
      "\u001b[0;31m---------------------------------------------------------------------------\u001b[0m",
      "\u001b[0;31mValueError\u001b[0m                                Traceback (most recent call last)",
      "\u001b[0;32m<ipython-input-42-f3612165489d>\u001b[0m in \u001b[0;36m<module>\u001b[0;34m\u001b[0m\n\u001b[0;32m----> 1\u001b[0;31m \u001b[0mmnist_neigh\u001b[0m\u001b[0;34m.\u001b[0m\u001b[0mpredict\u001b[0m\u001b[0;34m(\u001b[0m\u001b[0mmnist\u001b[0m\u001b[0;34m.\u001b[0m\u001b[0mdata\u001b[0m\u001b[0;34m[\u001b[0m\u001b[0;36m10\u001b[0m\u001b[0;34m]\u001b[0m\u001b[0;34m)\u001b[0m\u001b[0;34m\u001b[0m\u001b[0;34m\u001b[0m\u001b[0m\n\u001b[0m",
      "\u001b[0;32m~/Documents/ices_machine_learning/venv/lib/python3.6/site-packages/sklearn/neighbors/classification.py\u001b[0m in \u001b[0;36mpredict\u001b[0;34m(self, X)\u001b[0m\n\u001b[1;32m    145\u001b[0m             \u001b[0mClass\u001b[0m \u001b[0mlabels\u001b[0m \u001b[0;32mfor\u001b[0m \u001b[0meach\u001b[0m \u001b[0mdata\u001b[0m \u001b[0msample\u001b[0m\u001b[0;34m.\u001b[0m\u001b[0;34m\u001b[0m\u001b[0;34m\u001b[0m\u001b[0m\n\u001b[1;32m    146\u001b[0m         \"\"\"\n\u001b[0;32m--> 147\u001b[0;31m         \u001b[0mX\u001b[0m \u001b[0;34m=\u001b[0m \u001b[0mcheck_array\u001b[0m\u001b[0;34m(\u001b[0m\u001b[0mX\u001b[0m\u001b[0;34m,\u001b[0m \u001b[0maccept_sparse\u001b[0m\u001b[0;34m=\u001b[0m\u001b[0;34m'csr'\u001b[0m\u001b[0;34m)\u001b[0m\u001b[0;34m\u001b[0m\u001b[0;34m\u001b[0m\u001b[0m\n\u001b[0m\u001b[1;32m    148\u001b[0m \u001b[0;34m\u001b[0m\u001b[0m\n\u001b[1;32m    149\u001b[0m         \u001b[0mneigh_dist\u001b[0m\u001b[0;34m,\u001b[0m \u001b[0mneigh_ind\u001b[0m \u001b[0;34m=\u001b[0m \u001b[0mself\u001b[0m\u001b[0;34m.\u001b[0m\u001b[0mkneighbors\u001b[0m\u001b[0;34m(\u001b[0m\u001b[0mX\u001b[0m\u001b[0;34m)\u001b[0m\u001b[0;34m\u001b[0m\u001b[0;34m\u001b[0m\u001b[0m\n",
      "\u001b[0;32m~/Documents/ices_machine_learning/venv/lib/python3.6/site-packages/sklearn/utils/validation.py\u001b[0m in \u001b[0;36mcheck_array\u001b[0;34m(array, accept_sparse, accept_large_sparse, dtype, order, copy, force_all_finite, ensure_2d, allow_nd, ensure_min_samples, ensure_min_features, warn_on_dtype, estimator)\u001b[0m\n\u001b[1;32m    550\u001b[0m                     \u001b[0;34m\"Reshape your data either using array.reshape(-1, 1) if \"\u001b[0m\u001b[0;34m\u001b[0m\u001b[0;34m\u001b[0m\u001b[0m\n\u001b[1;32m    551\u001b[0m                     \u001b[0;34m\"your data has a single feature or array.reshape(1, -1) \"\u001b[0m\u001b[0;34m\u001b[0m\u001b[0;34m\u001b[0m\u001b[0m\n\u001b[0;32m--> 552\u001b[0;31m                     \"if it contains a single sample.\".format(array))\n\u001b[0m\u001b[1;32m    553\u001b[0m \u001b[0;34m\u001b[0m\u001b[0m\n\u001b[1;32m    554\u001b[0m         \u001b[0;31m# in the future np.flexible dtypes will be handled like object dtypes\u001b[0m\u001b[0;34m\u001b[0m\u001b[0;34m\u001b[0m\u001b[0;34m\u001b[0m\u001b[0m\n",
      "\u001b[0;31mValueError\u001b[0m: Expected 2D array, got 1D array instead:\narray=[ 0.  0.  1.  9. 15. 11.  0.  0.  0.  0. 11. 16.  8. 14.  6.  0.  0.  2.\n 16. 10.  0.  9.  9.  0.  0.  1. 16.  4.  0.  8.  8.  0.  0.  4. 16.  4.\n  0.  8.  8.  0.  0.  1. 16.  5.  1. 11.  3.  0.  0.  0. 12. 12. 10. 10.\n  0.  0.  0.  0.  1. 10. 13.  3.  0.  0.].\nReshape your data either using array.reshape(-1, 1) if your data has a single feature or array.reshape(1, -1) if it contains a single sample."
     ]
    }
   ],
   "source": [
    "mnist_neigh.predict(mnist.data[10])"
   ]
  },
  {
   "cell_type": "markdown",
   "metadata": {
    "slideshow": {
     "slide_type": "subslide"
    }
   },
   "source": [
    "`KNeighborsClassifier.predict(X)` takes X of dimension `(m, n)` where\n",
    "- `m`: number of prediction to be made\n",
    "- `n`: number of features in each test examples(in this case `64`)"
   ]
  },
  {
   "cell_type": "markdown",
   "metadata": {},
   "source": [
    "Make the example of shape `(1, 64)` and make prediction "
   ]
  },
  {
   "cell_type": "code",
   "execution_count": 44,
   "metadata": {
    "ExecuteTime": {
     "end_time": "2019-02-02T14:31:31.545390Z",
     "start_time": "2019-02-02T14:31:31.540015Z"
    }
   },
   "outputs": [
    {
     "data": {
      "text/plain": [
       "(array([0]), 0)"
      ]
     },
     "execution_count": 44,
     "metadata": {},
     "output_type": "execute_result"
    }
   ],
   "source": [
    "mnist_neigh.predict(mnist.data[10].reshape((1, 64))), mnist.target[10]"
   ]
  },
  {
   "cell_type": "markdown",
   "metadata": {
    "ExecuteTime": {
     "end_time": "2019-01-30T14:48:53.591754Z",
     "start_time": "2019-01-30T14:48:53.584329Z"
    },
    "slideshow": {
     "slide_type": "slide"
    }
   },
   "source": [
    "# Performance of the Algorithm"
   ]
  },
  {
   "cell_type": "markdown",
   "metadata": {
    "slideshow": {
     "slide_type": "subslide"
    }
   },
   "source": [
    "### Make predictions off all training examples"
   ]
  },
  {
   "cell_type": "code",
   "execution_count": 46,
   "metadata": {
    "ExecuteTime": {
     "end_time": "2019-02-02T14:31:46.959918Z",
     "start_time": "2019-02-02T14:31:46.598553Z"
    },
    "slideshow": {
     "slide_type": "fragment"
    }
   },
   "outputs": [
    {
     "data": {
      "text/plain": [
       "array([0, 1, 2, ..., 8, 9, 8])"
      ]
     },
     "execution_count": 46,
     "metadata": {},
     "output_type": "execute_result"
    }
   ],
   "source": [
    "train_prediction = mnist_neigh.predict(mnist.data)\n",
    "train_prediction"
   ]
  },
  {
   "cell_type": "markdown",
   "metadata": {
    "slideshow": {
     "slide_type": "fragment"
    }
   },
   "source": [
    "### Measure accuracy\n",
    "\\begin{equation*}\n",
    "accuracy = \\frac{number\\;of\\;correct\\;prediction}{total\\;number\\;of\\;prediction}\n",
    "\\end{equation*}\n"
   ]
  },
  {
   "cell_type": "code",
   "execution_count": 47,
   "metadata": {
    "ExecuteTime": {
     "end_time": "2019-02-02T14:31:49.107927Z",
     "start_time": "2019-02-02T14:31:49.103870Z"
    }
   },
   "outputs": [
    {
     "data": {
      "text/plain": [
       "0.989983305509182"
      ]
     },
     "execution_count": 47,
     "metadata": {},
     "output_type": "execute_result"
    }
   ],
   "source": [
    "np.sum(train_prediction == mnist.target)/mnist.data.shape[0]"
   ]
  },
  {
   "cell_type": "markdown",
   "metadata": {
    "slideshow": {
     "slide_type": "fragment"
    }
   },
   "source": [
    "### Are we doing great?"
   ]
  },
  {
   "cell_type": "markdown",
   "metadata": {
    "slideshow": {
     "slide_type": "slide"
    }
   },
   "source": [
    "### Hell no! Remember,\n",
    "#### Machine Learning algorithms should also generalize to the examples which it never sees provided that alien is from same distribution(No Free Lunch Theorem)"
   ]
  },
  {
   "cell_type": "markdown",
   "metadata": {
    "ExecuteTime": {
     "end_time": "2019-01-30T15:44:20.127326Z",
     "start_time": "2019-01-30T15:44:20.116909Z"
    },
    "slideshow": {
     "slide_type": "fragment"
    }
   },
   "source": [
    "<img src=\"images/train_test_split.png\">"
   ]
  },
  {
   "cell_type": "markdown",
   "metadata": {
    "slideshow": {
     "slide_type": "slide"
    }
   },
   "source": [
    "### You can do it by using numpy indexing and slicing\n",
    "#### Why worry if library provides such services"
   ]
  },
  {
   "cell_type": "code",
   "execution_count": 48,
   "metadata": {
    "ExecuteTime": {
     "end_time": "2019-02-02T14:31:58.189407Z",
     "start_time": "2019-02-02T14:31:58.177439Z"
    },
    "slideshow": {
     "slide_type": "fragment"
    }
   },
   "outputs": [],
   "source": [
    "from sklearn.model_selection import train_test_split\n",
    "(train_data, test_data, train_labels, test_labels) = train_test_split(\n",
    "    mnist.data, mnist.target, shuffle=True, test_size=0.2) "
   ]
  },
  {
   "cell_type": "code",
   "execution_count": 49,
   "metadata": {
    "ExecuteTime": {
     "end_time": "2019-02-02T14:31:59.596702Z",
     "start_time": "2019-02-02T14:31:59.591820Z"
    }
   },
   "outputs": [
    {
     "name": "stdout",
     "output_type": "stream",
     "text": [
      "Number of training data:  1437\n",
      "Number of test data:  360\n",
      "Shape of training data:  (1437, 64)\n",
      "Shape of test data:  (360, 64)\n",
      "Shape of training data labels:  (1437,)\n",
      "Shape of test data labels:  (360,)\n"
     ]
    }
   ],
   "source": [
    "print(\"Number of training data: \", train_data.shape[0])\n",
    "print(\"Number of test data: \", test_data.shape[0])\n",
    "print(\"Shape of training data: \", train_data.shape) \n",
    "print(\"Shape of test data: \", test_data.shape)\n",
    "print(\"Shape of training data labels: \", train_labels.shape)\n",
    "print(\"Shape of test data labels: \", test_labels.shape)"
   ]
  },
  {
   "cell_type": "markdown",
   "metadata": {
    "ExecuteTime": {
     "end_time": "2019-01-30T16:03:13.468568Z",
     "start_time": "2019-01-30T16:03:13.464140Z"
    },
    "slideshow": {
     "slide_type": "slide"
    }
   },
   "source": [
    "### Now fit KNeighbors using training data"
   ]
  },
  {
   "cell_type": "code",
   "execution_count": 50,
   "metadata": {
    "ExecuteTime": {
     "end_time": "2019-02-02T14:32:01.743029Z",
     "start_time": "2019-02-02T14:32:01.735725Z"
    },
    "slideshow": {
     "slide_type": "-"
    }
   },
   "outputs": [
    {
     "data": {
      "text/plain": [
       "KNeighborsClassifier(algorithm='auto', leaf_size=30, metric='minkowski',\n",
       "           metric_params=None, n_jobs=None, n_neighbors=6, p=2,\n",
       "           weights='uniform')"
      ]
     },
     "execution_count": 50,
     "metadata": {},
     "output_type": "execute_result"
    }
   ],
   "source": [
    "mnist_neigh = KNeighborsClassifier(n_neighbors=6)\n",
    "mnist_neigh.fit(train_data, train_labels)"
   ]
  },
  {
   "cell_type": "markdown",
   "metadata": {
    "slideshow": {
     "slide_type": "fragment"
    }
   },
   "source": [
    "### Accuracy in train and test sets"
   ]
  },
  {
   "cell_type": "code",
   "execution_count": 51,
   "metadata": {
    "ExecuteTime": {
     "end_time": "2019-02-02T14:32:03.653566Z",
     "start_time": "2019-02-02T14:32:03.338994Z"
    },
    "slideshow": {
     "slide_type": "-"
    }
   },
   "outputs": [
    {
     "name": "stdout",
     "output_type": "stream",
     "text": [
      "Training set accuracy:  0.988865692414753\n",
      "Test set accuracy:  0.9833333333333333\n"
     ]
    }
   ],
   "source": [
    "train_predict = mnist_neigh.predict(train_data)\n",
    "train_set_accuracy = np.sum(train_predict == train_labels) / train_data.shape[0]\n",
    "print('Training set accuracy: ', train_set_accuracy)\n",
    "test_predict = mnist_neigh.predict(test_data)\n",
    "test_set_accuracy = np.sum(test_predict == test_labels) / test_data.shape[0]\n",
    "print('Test set accuracy: ', test_set_accuracy)"
   ]
  },
  {
   "cell_type": "markdown",
   "metadata": {
    "slideshow": {
     "slide_type": "slide"
    }
   },
   "source": [
    "## Using `scikit-learn` performance measure metrices"
   ]
  },
  {
   "cell_type": "markdown",
   "metadata": {
    "slideshow": {
     "slide_type": "fragment"
    }
   },
   "source": [
    "Accuracy"
   ]
  },
  {
   "cell_type": "code",
   "execution_count": 52,
   "metadata": {
    "ExecuteTime": {
     "end_time": "2019-02-02T14:32:06.276919Z",
     "start_time": "2019-02-02T14:32:06.273570Z"
    }
   },
   "outputs": [
    {
     "name": "stdout",
     "output_type": "stream",
     "text": [
      "Test set accuracy:  0.9833333333333333\n"
     ]
    }
   ],
   "source": [
    "from sklearn import metrics\n",
    "print(\"Test set accuracy: \", metrics.accuracy_score(test_labels, test_predict))"
   ]
  },
  {
   "cell_type": "markdown",
   "metadata": {
    "slideshow": {
     "slide_type": "subslide"
    }
   },
   "source": [
    "Confusion Matrix"
   ]
  },
  {
   "cell_type": "code",
   "execution_count": 53,
   "metadata": {
    "ExecuteTime": {
     "end_time": "2019-02-02T14:32:13.123947Z",
     "start_time": "2019-02-02T14:32:13.112823Z"
    },
    "slideshow": {
     "slide_type": "fragment"
    }
   },
   "outputs": [
    {
     "data": {
      "text/plain": [
       "array([[35,  0,  0,  0,  0,  0,  0,  0,  0,  0],\n",
       "       [ 0, 39,  0,  0,  0,  0,  0,  0,  0,  0],\n",
       "       [ 0,  0, 43,  0,  0,  0,  0,  1,  0,  0],\n",
       "       [ 0,  0,  0, 35,  0,  0,  0,  0,  0,  0],\n",
       "       [ 0,  0,  0,  0, 28,  0,  0,  0,  0,  0],\n",
       "       [ 0,  0,  0,  0,  0, 30,  0,  0,  0,  0],\n",
       "       [ 0,  0,  0,  0,  0,  0, 29,  0,  0,  0],\n",
       "       [ 0,  0,  0,  0,  0,  0,  0, 33,  0,  0],\n",
       "       [ 0,  3,  0,  1,  0,  0,  0,  1, 32,  0],\n",
       "       [ 0,  0,  0,  0,  0,  0,  0,  0,  0, 50]])"
      ]
     },
     "execution_count": 53,
     "metadata": {},
     "output_type": "execute_result"
    }
   ],
   "source": [
    "confusion_matrix_test = metrics.confusion_matrix(test_labels, test_predict)\n",
    "confusion_matrix_test"
   ]
  },
  {
   "cell_type": "code",
   "execution_count": 54,
   "metadata": {
    "ExecuteTime": {
     "end_time": "2019-02-02T14:32:15.706824Z",
     "start_time": "2019-02-02T14:32:15.512335Z"
    },
    "slideshow": {
     "slide_type": "fragment"
    }
   },
   "outputs": [
    {
     "data": {
      "text/plain": [
       "<matplotlib.colorbar.Colorbar at 0x7fae65a71ef0>"
      ]
     },
     "execution_count": 54,
     "metadata": {},
     "output_type": "execute_result"
    },
    {
     "data": {
      "image/png": "[encoded data removed]",
      "text/plain": [
       "<Figure size 288x288 with 2 Axes>"
      ]
     },
     "metadata": {
      "needs_background": "light"
     },
     "output_type": "display_data"
    }
   ],
   "source": [
    "%matplotlib inline\n",
    "cax=plt.matshow(confusion_matrix_test)\n",
    "plt.colorbar(cax)"
   ]
  },
  {
   "cell_type": "markdown",
   "metadata": {
    "slideshow": {
     "slide_type": "slide"
    }
   },
   "source": [
    "### Problem with using Accuracy metric only"
   ]
  },
  {
   "cell_type": "markdown",
   "metadata": {
    "slideshow": {
     "slide_type": "fragment"
    }
   },
   "source": [
    "Would you believe someone who claimed to create a model entirely in their head to identify terrorists trying to board flights with greater than 99% accuracy? \n",
    "\n",
    "Well, here is the model: simply label every single person flying from a US airport as not a terrorist."
   ]
  },
  {
   "cell_type": "markdown",
   "metadata": {
    "slideshow": {
     "slide_type": "fragment"
    }
   },
   "source": [
    "Given the 800 million average passengers on US flights per year and the 19 (confirmed) terrorists who boarded US flights from 2000–2017, this model achieves an astounding accuracy of 99.9999999%! That might sound impressive,"
   ]
  },
  {
   "cell_type": "markdown",
   "metadata": {
    "slideshow": {
     "slide_type": "slide"
    }
   },
   "source": [
    "# Beyond Accuracy: Precision and Recall"
   ]
  },
  {
   "cell_type": "markdown",
   "metadata": {
    "ExecuteTime": {
     "end_time": "2019-02-02T07:12:43.720108Z",
     "start_time": "2019-02-02T07:12:43.714166Z"
    },
    "slideshow": {
     "slide_type": "fragment"
    }
   },
   "source": [
    "<img src=\"images/precisionrecall.png\">"
   ]
  },
  {
   "cell_type": "markdown",
   "metadata": {},
   "source": [
    "<b>Precision</b>($P$) is defined as the number of true positives ($T_p$) over the number of true positives plus the number of false positives ($F_p$).\n",
    "\n",
    "$P = \\frac{T_p}{T_p + F_p}$\n",
    "\n",
    "The precision is intuitively the ability of the classifier not to label as positive a sample that is negative.\n",
    "\n",
    "The best value is 1 and the worst value is 0.\n"
   ]
  },
  {
   "cell_type": "markdown",
   "metadata": {
    "ExecuteTime": {
     "end_time": "2019-02-02T07:12:43.720108Z",
     "start_time": "2019-02-02T07:12:43.714166Z"
    },
    "slideshow": {
     "slide_type": "subslide"
    }
   },
   "source": [
    "<img src=\"images/precisionrecall.png\">"
   ]
  },
  {
   "cell_type": "markdown",
   "metadata": {},
   "source": [
    "The<b> recall </b>($R$)is the ratio ``tp / (tp + fn)`` where ``tp`` is the number of\n",
    "true positives and ``fn`` the number of false negatives.\n",
    "\n",
    "$R = \\frac{T_p}{T_p + F_n}$\n",
    "\n",
    "The recall is intuitively the ability of the classifier to find all the positive samples."
   ]
  },
  {
   "cell_type": "code",
   "execution_count": 55,
   "metadata": {
    "ExecuteTime": {
     "end_time": "2019-02-02T14:32:25.775240Z",
     "start_time": "2019-02-02T14:32:25.769038Z"
    },
    "slideshow": {
     "slide_type": "slide"
    }
   },
   "outputs": [
    {
     "name": "stdout",
     "output_type": "stream",
     "text": [
      "Test set precision:  0.9833333333333333\n",
      "Test set recall:  0.9833333333333333\n"
     ]
    }
   ],
   "source": [
    "print(\"Test set precision: \", metrics.precision_score(test_labels, test_predict, average='micro'))\n",
    "print(\"Test set recall: \", metrics.recall_score(test_labels, test_predict, average='micro'))"
   ]
  },
  {
   "cell_type": "markdown",
   "metadata": {
    "slideshow": {
     "slide_type": "slide"
    }
   },
   "source": [
    "### See wrongly predicted test data"
   ]
  },
  {
   "cell_type": "code",
   "execution_count": 56,
   "metadata": {
    "ExecuteTime": {
     "end_time": "2019-02-02T14:32:28.390414Z",
     "start_time": "2019-02-02T14:32:28.386339Z"
    },
    "scrolled": true,
    "slideshow": {
     "slide_type": "fragment"
    }
   },
   "outputs": [],
   "source": [
    "idx = (test_labels != test_predict)\n",
    "wrongly_predicted_testdata = test_data[idx][0]\n",
    "wrongly_predicted_testlabel = test_predict[idx][0]\n",
    "actual_testlabel = test_labels[idx][0]"
   ]
  },
  {
   "cell_type": "code",
   "execution_count": 57,
   "metadata": {
    "ExecuteTime": {
     "end_time": "2019-02-02T14:32:31.478702Z",
     "start_time": "2019-02-02T14:32:31.316650Z"
    }
   },
   "outputs": [
    {
     "name": "stdout",
     "output_type": "stream",
     "text": [
      "Prediction:  1\n",
      "Actual:  8\n"
     ]
    },
    {
     "data": {
      "text/plain": [
       "<matplotlib.image.AxesImage at 0x7fae604acc18>"
      ]
     },
     "execution_count": 57,
     "metadata": {},
     "output_type": "execute_result"
    },
    {
     "data": {
      "image/png": "[encoded data removed]",
      "text/plain": [
       "<Figure size 432x288 with 1 Axes>"
      ]
     },
     "metadata": {
      "needs_background": "light"
     },
     "output_type": "display_data"
    }
   ],
   "source": [
    "print(\"Prediction: \", wrongly_predicted_testlabel)\n",
    "print(\"Actual: \", actual_testlabel)\n",
    "# plt.figure(figsize=(1,1))\n",
    "plt.imshow(wrongly_predicted_testdata.reshape((8, 8)), cmap='gray')"
   ]
  },
  {
   "cell_type": "markdown",
   "metadata": {
    "slideshow": {
     "slide_type": "slide"
    }
   },
   "source": [
    "# What can we do to make it perform even better?"
   ]
  },
  {
   "cell_type": "markdown",
   "metadata": {
    "slideshow": {
     "slide_type": "subslide"
    }
   },
   "source": [
    "#### Try changing the parameter of the algorithms"
   ]
  },
  {
   "cell_type": "code",
   "execution_count": 120,
   "metadata": {
    "ExecuteTime": {
     "end_time": "2019-01-30T17:27:31.758080Z",
     "start_time": "2019-01-30T17:17:19.843944Z"
    },
    "deletable": false,
    "editable": false,
    "run_control": {
     "frozen": true
    },
    "slideshow": {
     "slide_type": "fragment"
    }
   },
   "outputs": [
    {
     "data": {
      "text/plain": [
       "<matplotlib.legend.Legend at 0x7fe64a7022b0>"
      ]
     },
     "execution_count": 120,
     "metadata": {},
     "output_type": "execute_result"
    },
    {
     "data": {
      "image/png": "[encoded data removed]",
      "text/plain": [
       "<Figure size 432x288 with 1 Axes>"
      ]
     },
     "metadata": {
      "needs_background": "light"
     },
     "output_type": "display_data"
    }
   ],
   "source": [
    "n_neighbors = list(range(1, train_data.shape[0]))\n",
    "train_results = []\n",
    "test_results = []\n",
    "\n",
    "for n_neighbor in n_neighbors:\n",
    "    ngh = KNeighborsClassifier(n_neighbors=n_neighbor)\n",
    "    ngh.fit(train_data, train_labels)\n",
    "    train_results.append(metrics.accuracy_score(train_labels, ngh.predict(train_data)))\n",
    "    test_results.append(metrics.accuracy_score(test_labels, ngh.predict(test_data)))\n",
    "\n",
    "plt.plot(n_neighbors, train_results, 'b', label='Train Accuracy Score')\n",
    "plt.plot(n_neighbors, test_results, 'r', label='Test Accuracy Score')\n",
    "\n",
    "plt.xlabel('n_neighbors')\n",
    "plt.ylabel('Accuracy Score')\n",
    "plt.legend()"
   ]
  },
  {
   "cell_type": "code",
   "execution_count": 58,
   "metadata": {
    "ExecuteTime": {
     "end_time": "2019-02-02T14:32:37.671369Z",
     "start_time": "2019-02-02T14:32:35.154206Z"
    },
    "slideshow": {
     "slide_type": "subslide"
    }
   },
   "outputs": [
    {
     "data": {
      "text/plain": [
       "<matplotlib.legend.Legend at 0x7fae605d90f0>"
      ]
     },
     "execution_count": 58,
     "metadata": {},
     "output_type": "execute_result"
    },
    {
     "data": {
      "image/png": "[encoded data removed]",
      "text/plain": [
       "<Figure size 432x288 with 1 Axes>"
      ]
     },
     "metadata": {
      "needs_background": "light"
     },
     "output_type": "display_data"
    }
   ],
   "source": [
    "%matplotlib inline\n",
    "n_neighbors = list(range(1, 10))\n",
    "train_results = []\n",
    "test_results = []\n",
    "\n",
    "for n_neighbor in n_neighbors:\n",
    "    ngh = KNeighborsClassifier(n_neighbors=n_neighbor)\n",
    "    ngh.fit(train_data, train_labels)\n",
    "    train_results.append(metrics.accuracy_score(train_labels, ngh.predict(train_data)))\n",
    "    test_results.append(metrics.accuracy_score(test_labels, ngh.predict(test_data)))\n",
    "\n",
    "plt.plot(n_neighbors, train_results, 'b', label='Train Accuracy Score')\n",
    "plt.plot(n_neighbors, test_results, 'r', label='Test Accuracy Score')\n",
    "\n",
    "plt.xlabel('n_neighbors')\n",
    "plt.ylabel('Accuracy Score')\n",
    "plt.legend()"
   ]
  },
  {
   "cell_type": "code",
   "execution_count": 59,
   "metadata": {
    "ExecuteTime": {
     "end_time": "2019-02-02T14:32:37.833939Z",
     "start_time": "2019-02-02T14:32:37.689292Z"
    },
    "slideshow": {
     "slide_type": "subslide"
    }
   },
   "outputs": [
    {
     "name": "stdout",
     "output_type": "stream",
     "text": [
      "Train set accuracy:  1.0\n",
      "Test set accuracy:  0.9861111111111112\n"
     ]
    }
   ],
   "source": [
    "ngh_best = KNeighborsClassifier(n_neighbors=1)\n",
    "ngh_best.fit(train_data, train_labels)\n",
    "print(\"Train set accuracy: \", metrics.accuracy_score(train_labels, ngh_best.predict(train_data)))\n",
    "print(\"Test set accuracy: \", metrics.accuracy_score(test_labels, ngh_best.predict(test_data)))"
   ]
  },
  {
   "cell_type": "markdown",
   "metadata": {
    "slideshow": {
     "slide_type": "subslide"
    }
   },
   "source": [
    "#### Switching to another Machine Learning Model"
   ]
  },
  {
   "cell_type": "markdown",
   "metadata": {
    "slideshow": {
     "slide_type": "fragment"
    }
   },
   "source": [
    "##### What are the cons of using `kNN` ?"
   ]
  },
  {
   "cell_type": "markdown",
   "metadata": {
    "slideshow": {
     "slide_type": "fragment"
    }
   },
   "source": [
    "- <b>Lazy learner</b>"
   ]
  },
  {
   "cell_type": "markdown",
   "metadata": {},
   "source": [
    "Lazy learning is a learning method in which generalization of the training data is delayed until a query is made to the system. Hence prediction is slow."
   ]
  },
  {
   "cell_type": "markdown",
   "metadata": {
    "slideshow": {
     "slide_type": "fragment"
    }
   },
   "source": [
    "- <b>Character datasets are best generalized by other algorithms</b>"
   ]
  },
  {
   "cell_type": "markdown",
   "metadata": {},
   "source": [
    "Neural Networks have achieved upto `99.51%` accuracy in MNIST dataset"
   ]
  },
  {
   "cell_type": "markdown",
   "metadata": {
    "slideshow": {
     "slide_type": "fragment"
    }
   },
   "source": [
    "- <b>Curse of dimensionality</b>"
   ]
  },
  {
   "cell_type": "markdown",
   "metadata": {
    "slideshow": {
     "slide_type": "-"
    }
   },
   "source": [
    "Worst performance when number of feature increases and features are related to each other"
   ]
  },
  {
   "cell_type": "markdown",
   "metadata": {
    "slideshow": {
     "slide_type": "slide"
    }
   },
   "source": [
    "# Eager Learner"
   ]
  },
  {
   "cell_type": "markdown",
   "metadata": {
    "ExecuteTime": {
     "end_time": "2019-01-30T18:51:04.620244Z",
     "start_time": "2019-01-30T18:51:04.615581Z"
    },
    "slideshow": {
     "slide_type": "fragment"
    }
   },
   "source": [
    "<img src=\"images/eager_learner.png\" width=\"600\">"
   ]
  },
  {
   "cell_type": "markdown",
   "metadata": {
    "slideshow": {
     "slide_type": "slide"
    }
   },
   "source": [
    "# Taking everything into account"
   ]
  },
  {
   "cell_type": "markdown",
   "metadata": {
    "slideshow": {
     "slide_type": "fragment"
    }
   },
   "source": [
    "## Machine Learning Practice is exhaustive search of algorithms and their parameters in order to find one that best generalizes the given representative training datasets of certain distribution."
   ]
  },
  {
   "cell_type": "markdown",
   "metadata": {
    "slideshow": {
     "slide_type": "notes"
    }
   },
   "source": [
    "## Defining the Skills That You Need"
   ]
  },
  {
   "cell_type": "markdown",
   "metadata": {
    "slideshow": {
     "slide_type": "notes"
    }
   },
   "source": [
    "- Understand what tools are available"
   ]
  },
  {
   "cell_type": "markdown",
   "metadata": {
    "slideshow": {
     "slide_type": "notes"
    }
   },
   "source": [
    "- Learn languages"
   ]
  },
  {
   "cell_type": "markdown",
   "metadata": {
    "ExecuteTime": {
     "end_time": "2019-01-30T19:35:24.117621Z",
     "start_time": "2019-01-30T19:35:24.113100Z"
    },
    "slideshow": {
     "slide_type": "notes"
    }
   },
   "source": [
    "- Explore algorithms"
   ]
  },
  {
   "cell_type": "markdown",
   "metadata": {
    "slideshow": {
     "slide_type": "notes"
    }
   },
   "source": [
    "- Select appropriate models"
   ]
  },
  {
   "cell_type": "markdown",
   "metadata": {
    "slideshow": {
     "slide_type": "notes"
    }
   },
   "source": [
    "- Understand the value of probability and statistics"
   ]
  },
  {
   "cell_type": "markdown",
   "metadata": {
    "slideshow": {
     "slide_type": "notes"
    }
   },
   "source": [
    "- Understand data management"
   ]
  },
  {
   "cell_type": "markdown",
   "metadata": {
    "slideshow": {
     "slide_type": "slide"
    }
   },
   "source": [
    "# AI,ML,DL"
   ]
  },
  {
   "cell_type": "markdown",
   "metadata": {
    "slideshow": {
     "slide_type": "fragment"
    }
   },
   "source": [
    "<ul>\n",
    "    <li>Artificial Intelligence — Human Intelligence Exhibited by Machines</li>\n",
    "    <li>Machine Learning — An Approach to Achieve Artificial Intelligence</li>\n",
    "    <li>Deep Learning — A Technique for Implementing Machine Learning</li>\n",
    "</ul>\n",
    "    "
   ]
  },
  {
   "cell_type": "markdown",
   "metadata": {
    "slideshow": {
     "slide_type": "slide"
    }
   },
   "source": [
    "## Examples"
   ]
  },
  {
   "cell_type": "markdown",
   "metadata": {
    "slideshow": {
     "slide_type": "fragment"
    }
   },
   "source": [
    "<ul>\n",
    "<li>Facebook facerecognition</li>\n",
    "<li>Google map</li>\n",
    "<li>Google Search</li>\n",
    "</ul>"
   ]
  },
  {
   "cell_type": "markdown",
   "metadata": {
    "slideshow": {
     "slide_type": "slide"
    }
   },
   "source": [
    "# Numpy and Pandas\n"
   ]
  },
  {
   "cell_type": "markdown",
   "metadata": {
    "slideshow": {
     "slide_type": "fragment"
    }
   },
   "source": [
    "<ul>\n",
    "    <li>Numpy :package for Scientific Computing.Useful features for operation on N-dimension arrays structure</li>\n",
    "    <li>Pandas:Data structure manipulatio,.Good IO capalibities</li>\n",
    "    </ul>\n",
    "\n",
    "\n"
   ]
  },
  {
   "cell_type": "markdown",
   "metadata": {
    "slideshow": {
     "slide_type": "slide"
    }
   },
   "source": [
    "# Supervised Learning"
   ]
  },
  {
   "cell_type": "markdown",
   "metadata": {
    "slideshow": {
     "slide_type": "fragment"
    }
   },
   "source": [
    "<ul>\n",
    "    <li>Train by label Data</li>\n",
    "    <li>Relation between dependent and independent variable</li>\n",
    "    <li>Human act as Teacher</li>\n",
    "    </ul>\n"
   ]
  },
  {
   "cell_type": "markdown",
   "metadata": {
    "slideshow": {
     "slide_type": "slide"
    }
   },
   "source": [
    "# Unsupervised Learning"
   ]
  },
  {
   "cell_type": "markdown",
   "metadata": {
    "slideshow": {
     "slide_type": "fragment"
    }
   },
   "source": [
    "<ul>\n",
    "    <li>Train by unlabled data</li>\n",
    "    <li>Knows patterns itself</li>\n",
    "    <li>Unknown features identification</li>\n",
    "    <li>Clustering,Association Rules.</li>\n",
    "    </ul>\n"
   ]
  },
  {
   "cell_type": "markdown",
   "metadata": {
    "slideshow": {
     "slide_type": "slide"
    }
   },
   "source": [
    "# Reinforcement Learning\n"
   ]
  },
  {
   "cell_type": "markdown",
   "metadata": {
    "slideshow": {
     "slide_type": "fragment"
    }
   },
   "source": [
    "\n",
    "<ul>\n",
    "<li> Agent automatically determine behaviour</li>\n",
    "<li>Require reward feedback to learn</li> \n",
    "</ul>\n"
   ]
  },
  {
   "cell_type": "markdown",
   "metadata": {
    "slideshow": {
     "slide_type": "slide"
    }
   },
   "source": [
    "# Data Preprocessing"
   ]
  },
  {
   "cell_type": "markdown",
   "metadata": {
    "slideshow": {
     "slide_type": "fragment"
    }
   },
   "source": [
    "<ul>\n",
    "<li>Transformation of raw data</li>\n",
    "<li>Handling missing data</li> \n",
    "<li>Reduction</li> \n",
    "<li>Remove outliers</li>\n",
    "<li>Scaling</li>   \n",
    "</ul>"
   ]
  },
  {
   "cell_type": "markdown",
   "metadata": {
    "slideshow": {
     "slide_type": "slide"
    }
   },
   "source": [
    "# Model Building"
   ]
  },
  {
   "cell_type": "markdown",
   "metadata": {
    "slideshow": {
     "slide_type": "fragment"
    }
   },
   "source": [
    "<ul>\n",
    "<li>Dataset</li>\n",
    "<li>Data Preprocessing</li>\n",
    "<li>Split Data to train and test</li>\n",
    "<li>Train algorithm</li>\n",
    "<li>Evaluation of Model</li>\n",
    "<li>Overfitting and Underfitting</li>\n",
    "</ul>\n"
   ]
  },
  {
   "cell_type": "markdown",
   "metadata": {
    "slideshow": {
     "slide_type": "slide"
    }
   },
   "source": [
    "# Framework"
   ]
  },
  {
   "cell_type": "markdown",
   "metadata": {
    "slideshow": {
     "slide_type": "fragment"
    }
   },
   "source": [
    "<ul>\n",
    "<li>PyTorch</li>\n",
    "<li>Keras</li>\n",
    "<li>Tensorflow</li>\n",
    "</ul>\n"
   ]
  },
  {
   "cell_type": "markdown",
   "metadata": {
    "slideshow": {
     "slide_type": "slide"
    }
   },
   "source": [
    "# Skill Required"
   ]
  },
  {
   "cell_type": "markdown",
   "metadata": {
    "slideshow": {
     "slide_type": "fragment"
    }
   },
   "source": [
    "<ul>\n",
    "<li>Probability and Statistics:probability distribution,regression,sampling etc</li>\n",
    "<li>Machine Learning Algorithms</li>\n",
    "<li>Linear algebra: know how to work with matrices </li>\n",
    "</ul>"
   ]
  },
  {
   "cell_type": "markdown",
   "metadata": {
    "slideshow": {
     "slide_type": "slide"
    }
   },
   "source": [
    "# How to start?\n"
   ]
  },
  {
   "cell_type": "markdown",
   "metadata": {
    "slideshow": {
     "slide_type": "fragment"
    }
   },
   "source": [
    "<ul>\n",
    "    <li>Believe you can practice and apply machine learning</li>\n",
    "    <li>tutorials</li>\n",
    "    <li>Start with simple projects like Titanic dataset,Breast cancer etc</li>\n",
    "    <li>Practice on real dataset</li>\n",
    "    </ul>"
   ]
  },
  {
   "cell_type": "markdown",
   "metadata": {
    "slideshow": {
     "slide_type": "slide"
    }
   },
   "source": [
    "# Dataset Source"
   ]
  },
  {
   "cell_type": "markdown",
   "metadata": {
    "slideshow": {
     "slide_type": "fragment"
    }
   },
   "source": [
    "<ul>\n",
    "<li>Kaggle</li>\n",
    "    <li>uci:https://archive.ics.uci.edu/ml/datasets.html</li>\n",
    "    </ul>"
   ]
  },
  {
   "cell_type": "markdown",
   "metadata": {
    "slideshow": {
     "slide_type": "slide"
    }
   },
   "source": [
    "# Some Helpful Resources:"
   ]
  },
  {
   "cell_type": "markdown",
   "metadata": {
    "slideshow": {
     "slide_type": "fragment"
    }
   },
   "source": [
    "- Algebra: [MIT](https://ocw.mit.edu/courses/mathematics/18-06-linear-algebra-spring-2010/videolectures/)\n",
    "- Data and Algorithms: [MIT](https://ocw.mit.edu/courses/electrical-engineering-and-computerscience/6-006-introduction-to-algorithms-fall-2011/lecture-videos/)\n",
    "- Machine Learning: [Stanford](https://see.stanford.edu/Course/CS229)\n",
    "- Programming:[Stanford](https://see.stanford.edu/Course/CS106A)\n",
    "- Machine Learning [Coursera](https://www.coursera.org/learn/machine-learning) Recommended for absolute beginner\n",
    "- Deep Learning [Coursera](https://www.coursera.org/specializations/deep-learning)\n",
    "    "
   ]
  },
  {
   "cell_type": "code",
   "execution_count": null,
   "metadata": {},
   "outputs": [],
   "source": []
  }
 ],
 "metadata": {
  "celltoolbar": "Slideshow",
  "kernelspec": {
   "display_name": "Python 3",
   "language": "python",
   "name": "python3"
  },
  "language_info": {
   "codemirror_mode": {
    "name": "ipython",
    "version": 3
   },
   "file_extension": ".py",
   "mimetype": "text/x-python",
   "name": "python",
   "nbconvert_exporter": "python",
   "pygments_lexer": "ipython3",
   "version": "3.6.7"
  },
  "latex_envs": {
   "LaTeX_envs_menu_present": true,
   "autoclose": true,
   "autocomplete": true,
   "bibliofile": "biblio.bib",
   "cite_by": "apalike",
   "current_citInitial": 1,
   "eqLabelWithNumbers": true,
   "eqNumInitial": 1,
   "hotkeys": {
    "equation": "Ctrl-E",
    "itemize": "Ctrl-I"
   },
   "labels_anchors": false,
   "latex_user_defs": false,
   "report_style_numbering": false,
   "user_envs_cfg": false
  },
  "varInspector": {
   "cols": {
    "lenName": 16,
    "lenType": 16,
    "lenVar": 40
   },
   "kernels_config": {
    "python": {
     "delete_cmd_postfix": "",
     "delete_cmd_prefix": "del ",
     "library": "var_list.py",
     "varRefreshCmd": "print(var_dic_list())"
    },
    "r": {
     "delete_cmd_postfix": ") ",
     "delete_cmd_prefix": "rm(",
     "library": "var_list.r",
     "varRefreshCmd": "cat(var_dic_list()) "
    }
   },
   "types_to_exclude": [
    "module",
    "function",
    "builtin_function_or_method",
    "instance",
    "_Feature"
   ],
   "window_display": false
  }
 },
 "nbformat": 4,
 "nbformat_minor": 2
}
